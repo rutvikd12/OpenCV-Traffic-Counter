{
  "cells": [
    {
      "cell_type": "markdown",
      "metadata": {
        "id": "view-in-github",
        "colab_type": "text"
      },
      "source": [
        "<a href=\"https://colab.research.google.com/github/rutvikd12/OpenCV-Traffic-Counter/blob/master/site/en/tutorials/load_data/video.ipynb\" target=\"_parent\"><img src=\"https://colab.research.google.com/assets/colab-badge.svg\" alt=\"Open In Colab\"/></a>"
      ]
    },
    {
      "cell_type": "markdown",
      "metadata": {
        "id": "mt9dL5dIir8X"
      },
      "source": [
        "##### Copyright 2022 The TensorFlow Authors."
      ]
    },
    {
      "cell_type": "code",
      "execution_count": 1,
      "metadata": {
        "cellView": "form",
        "id": "ufPx7EiCiqgR"
      },
      "outputs": [],
      "source": [
        "#@title Licensed under the Apache License, Version 2.0 (the \"License\");\n",
        "# you may not use this file except in compliance with the License.\n",
        "# You may obtain a copy of the License at\n",
        "#\n",
        "# https://www.apache.org/licenses/LICENSE-2.0\n",
        "#\n",
        "# Unless required by applicable law or agreed to in writing, software\n",
        "# distributed under the License is distributed on an \"AS IS\" BASIS,\n",
        "# WITHOUT WARRANTIES OR CONDITIONS OF ANY KIND, either express or implied.\n",
        "# See the License for the specific language governing permissions and\n",
        "# limitations under the License.\n"
      ]
    },
    {
      "cell_type": "markdown",
      "metadata": {
        "id": "4StGz9ynOEL6"
      },
      "source": [
        "# Load video data"
      ]
    },
    {
      "cell_type": "markdown",
      "metadata": {
        "id": "KwQtSOz0VrVX"
      },
      "source": [
        "<table class=\"tfo-notebook-buttons\" align=\"left\">\n",
        "  <td>\n",
        "    <a target=\"_blank\" href=\"https://www.tensorflow.org/tutorials/load_data/video\"><img src=\"https://www.tensorflow.org/images/tf_logo_32px.png\" />View on TensorFlow.org</a>\n",
        "  </td>\n",
        "  <td>\n",
        "    <a target=\"_blank\" href=\"https://colab.research.google.com/github/tensorflow/docs/blob/master/site/en/tutorials/load_data/video.ipynb\"><img src=\"https://www.tensorflow.org/images/colab_logo_32px.png\" />Run in Google Colab</a>\n",
        "  </td>\n",
        "  <td>\n",
        "    <a target=\"_blank\" href=\"https://github.com/tensorflow/docs/blob/master/site/en/tutorials/load_data/video.ipynb\"><img src=\"https://www.tensorflow.org/images/GitHub-Mark-32px.png\" />View source on GitHub</a>\n",
        "  </td>\n",
        "  <td>\n",
        "    <a href=\"https://storage.googleapis.com/tensorflow_docs/docs/site/en/tutorials/load_data/video.ipynb\"><img src=\"https://www.tensorflow.org/images/download_logo_32px.png\" />Download notebook</a>\n",
        "  </td>\n",
        "</table>"
      ]
    },
    {
      "cell_type": "markdown",
      "metadata": {
        "id": "F-SqCosJ6-0H"
      },
      "source": [
        "This tutorial demonstrates how to load and preprocess [AVI](https://en.wikipedia.org/wiki/Audio_Video_Interleave) video data using the [UCF101 human action dataset](https://www.tensorflow.org/datasets/catalog/ucf101). Once you have preprocessed the data, it can be used for such tasks as video classification/recognition, captioning or clustering. The original dataset contains realistic action videos collected from YouTube with 101 categories, including playing cello, brushing teeth, and applying eye makeup. You will learn how to:\n",
        "\n",
        "* Load the data from a zip file.\n",
        "\n",
        "* Read sequences of frames out of the video files.\n",
        "\n",
        "* Visualize the video data.\n",
        "\n",
        "* Wrap the frame-generator [`tf.data.Dataset`](https://www.tensorflow.org/guide/data).\n",
        "\n",
        "This video loading and preprocessing tutorial is the first part in a series of TensorFlow video tutorials. Here are the other three tutorials:\n",
        "\n",
        "- [Build a 3D CNN model for video classification](https://www.tensorflow.org/tutorials/video/video_classification): Note that this tutorial uses a (2+1)D CNN that decomposes the spatial and temporal aspects of 3D data; if you are using volumetric data such as an MRI scan, consider using a 3D CNN instead of a (2+1)D CNN.\n",
        "- [MoViNet for streaming action recognition](https://www.tensorflow.org/hub/tutorials/movinet): Get familiar with the MoViNet models that are available on TF Hub.\n",
        "- [Transfer learning for video classification with MoViNet](https://www.tensorflow.org/tutorials/video/transfer_learning_with_movinet): This tutorial explains how to use a pre-trained video classification model trained on a different dataset with the UCF-101 dataset."
      ]
    },
    {
      "cell_type": "markdown",
      "metadata": {
        "id": "PnpPjKVD68eH"
      },
      "source": [
        "## Setup\n",
        "\n",
        "Begin by installing and importing some necessary libraries, including:\n",
        "[remotezip](https://github.com/gtsystem/python-remotezip) to inspect the contents of a ZIP file, [tqdm](https://github.com/tqdm/tqdm) to use a progress bar, [OpenCV](https://opencv.org/) to process video files, and [`tensorflow_docs`](https://github.com/tensorflow/docs/tree/master/tools/tensorflow_docs) for embedding data in a Jupyter notebook."
      ]
    },
    {
      "cell_type": "code",
      "execution_count": 2,
      "metadata": {
        "id": "SjI3AaaO16bd",
        "outputId": "1b5a7857-fd2a-464a-c6f6-936cefcc71c8",
        "colab": {
          "base_uri": "https://localhost:8080/"
        }
      },
      "outputs": [
        {
          "output_type": "stream",
          "name": "stdout",
          "text": [
            "Requirement already satisfied: tensorflow>=2.10.0 in /usr/local/lib/python3.11/dist-packages (2.18.0)\n",
            "Collecting tensorflow>=2.10.0\n",
            "  Downloading tensorflow-2.19.0-cp311-cp311-manylinux_2_17_x86_64.manylinux2014_x86_64.whl.metadata (4.1 kB)\n",
            "Requirement already satisfied: absl-py>=1.0.0 in /usr/local/lib/python3.11/dist-packages (from tensorflow>=2.10.0) (1.4.0)\n",
            "Requirement already satisfied: astunparse>=1.6.0 in /usr/local/lib/python3.11/dist-packages (from tensorflow>=2.10.0) (1.6.3)\n",
            "Requirement already satisfied: flatbuffers>=24.3.25 in /usr/local/lib/python3.11/dist-packages (from tensorflow>=2.10.0) (25.2.10)\n",
            "Requirement already satisfied: gast!=0.5.0,!=0.5.1,!=0.5.2,>=0.2.1 in /usr/local/lib/python3.11/dist-packages (from tensorflow>=2.10.0) (0.6.0)\n",
            "Requirement already satisfied: google-pasta>=0.1.1 in /usr/local/lib/python3.11/dist-packages (from tensorflow>=2.10.0) (0.2.0)\n",
            "Requirement already satisfied: libclang>=13.0.0 in /usr/local/lib/python3.11/dist-packages (from tensorflow>=2.10.0) (18.1.1)\n",
            "Requirement already satisfied: opt-einsum>=2.3.2 in /usr/local/lib/python3.11/dist-packages (from tensorflow>=2.10.0) (3.4.0)\n",
            "Requirement already satisfied: packaging in /usr/local/lib/python3.11/dist-packages (from tensorflow>=2.10.0) (24.2)\n",
            "Requirement already satisfied: protobuf!=4.21.0,!=4.21.1,!=4.21.2,!=4.21.3,!=4.21.4,!=4.21.5,<6.0.0dev,>=3.20.3 in /usr/local/lib/python3.11/dist-packages (from tensorflow>=2.10.0) (5.29.3)\n",
            "Requirement already satisfied: requests<3,>=2.21.0 in /usr/local/lib/python3.11/dist-packages (from tensorflow>=2.10.0) (2.32.3)\n",
            "Requirement already satisfied: setuptools in /usr/local/lib/python3.11/dist-packages (from tensorflow>=2.10.0) (75.1.0)\n",
            "Requirement already satisfied: six>=1.12.0 in /usr/local/lib/python3.11/dist-packages (from tensorflow>=2.10.0) (1.17.0)\n",
            "Requirement already satisfied: termcolor>=1.1.0 in /usr/local/lib/python3.11/dist-packages (from tensorflow>=2.10.0) (2.5.0)\n",
            "Requirement already satisfied: typing-extensions>=3.6.6 in /usr/local/lib/python3.11/dist-packages (from tensorflow>=2.10.0) (4.12.2)\n",
            "Requirement already satisfied: wrapt>=1.11.0 in /usr/local/lib/python3.11/dist-packages (from tensorflow>=2.10.0) (1.17.2)\n",
            "Requirement already satisfied: grpcio<2.0,>=1.24.3 in /usr/local/lib/python3.11/dist-packages (from tensorflow>=2.10.0) (1.71.0)\n",
            "Collecting tensorboard~=2.19.0 (from tensorflow>=2.10.0)\n",
            "  Downloading tensorboard-2.19.0-py3-none-any.whl.metadata (1.8 kB)\n",
            "Requirement already satisfied: keras>=3.5.0 in /usr/local/lib/python3.11/dist-packages (from tensorflow>=2.10.0) (3.8.0)\n",
            "Requirement already satisfied: numpy<2.2.0,>=1.26.0 in /usr/local/lib/python3.11/dist-packages (from tensorflow>=2.10.0) (2.0.2)\n",
            "Requirement already satisfied: h5py>=3.11.0 in /usr/local/lib/python3.11/dist-packages (from tensorflow>=2.10.0) (3.13.0)\n",
            "Collecting ml-dtypes<1.0.0,>=0.5.1 (from tensorflow>=2.10.0)\n",
            "  Downloading ml_dtypes-0.5.1-cp311-cp311-manylinux_2_17_x86_64.manylinux2014_x86_64.whl.metadata (21 kB)\n",
            "Requirement already satisfied: tensorflow-io-gcs-filesystem>=0.23.1 in /usr/local/lib/python3.11/dist-packages (from tensorflow>=2.10.0) (0.37.1)\n",
            "Requirement already satisfied: wheel<1.0,>=0.23.0 in /usr/local/lib/python3.11/dist-packages (from astunparse>=1.6.0->tensorflow>=2.10.0) (0.45.1)\n",
            "Requirement already satisfied: rich in /usr/local/lib/python3.11/dist-packages (from keras>=3.5.0->tensorflow>=2.10.0) (13.9.4)\n",
            "Requirement already satisfied: namex in /usr/local/lib/python3.11/dist-packages (from keras>=3.5.0->tensorflow>=2.10.0) (0.0.8)\n",
            "Requirement already satisfied: optree in /usr/local/lib/python3.11/dist-packages (from keras>=3.5.0->tensorflow>=2.10.0) (0.14.1)\n",
            "Requirement already satisfied: charset-normalizer<4,>=2 in /usr/local/lib/python3.11/dist-packages (from requests<3,>=2.21.0->tensorflow>=2.10.0) (3.4.1)\n",
            "Requirement already satisfied: idna<4,>=2.5 in /usr/local/lib/python3.11/dist-packages (from requests<3,>=2.21.0->tensorflow>=2.10.0) (3.10)\n",
            "Requirement already satisfied: urllib3<3,>=1.21.1 in /usr/local/lib/python3.11/dist-packages (from requests<3,>=2.21.0->tensorflow>=2.10.0) (2.3.0)\n",
            "Requirement already satisfied: certifi>=2017.4.17 in /usr/local/lib/python3.11/dist-packages (from requests<3,>=2.21.0->tensorflow>=2.10.0) (2025.1.31)\n",
            "Requirement already satisfied: markdown>=2.6.8 in /usr/local/lib/python3.11/dist-packages (from tensorboard~=2.19.0->tensorflow>=2.10.0) (3.7)\n",
            "Requirement already satisfied: tensorboard-data-server<0.8.0,>=0.7.0 in /usr/local/lib/python3.11/dist-packages (from tensorboard~=2.19.0->tensorflow>=2.10.0) (0.7.2)\n",
            "Requirement already satisfied: werkzeug>=1.0.1 in /usr/local/lib/python3.11/dist-packages (from tensorboard~=2.19.0->tensorflow>=2.10.0) (3.1.3)\n",
            "Requirement already satisfied: MarkupSafe>=2.1.1 in /usr/local/lib/python3.11/dist-packages (from werkzeug>=1.0.1->tensorboard~=2.19.0->tensorflow>=2.10.0) (3.0.2)\n",
            "Requirement already satisfied: markdown-it-py>=2.2.0 in /usr/local/lib/python3.11/dist-packages (from rich->keras>=3.5.0->tensorflow>=2.10.0) (3.0.0)\n",
            "Requirement already satisfied: pygments<3.0.0,>=2.13.0 in /usr/local/lib/python3.11/dist-packages (from rich->keras>=3.5.0->tensorflow>=2.10.0) (2.18.0)\n",
            "Requirement already satisfied: mdurl~=0.1 in /usr/local/lib/python3.11/dist-packages (from markdown-it-py>=2.2.0->rich->keras>=3.5.0->tensorflow>=2.10.0) (0.1.2)\n",
            "Downloading tensorflow-2.19.0-cp311-cp311-manylinux_2_17_x86_64.manylinux2014_x86_64.whl (644.9 MB)\n",
            "\u001b[2K   \u001b[90m━━━━━━━━━━━━━━━━━━━━━━━━━━━━━━━━━━━━━━━━\u001b[0m \u001b[32m644.9/644.9 MB\u001b[0m \u001b[31m2.5 MB/s\u001b[0m eta \u001b[36m0:00:00\u001b[0m\n",
            "\u001b[?25hDownloading ml_dtypes-0.5.1-cp311-cp311-manylinux_2_17_x86_64.manylinux2014_x86_64.whl (4.7 MB)\n",
            "\u001b[2K   \u001b[90m━━━━━━━━━━━━━━━━━━━━━━━━━━━━━━━━━━━━━━━━\u001b[0m \u001b[32m4.7/4.7 MB\u001b[0m \u001b[31m45.1 MB/s\u001b[0m eta \u001b[36m0:00:00\u001b[0m\n",
            "\u001b[?25hDownloading tensorboard-2.19.0-py3-none-any.whl (5.5 MB)\n",
            "\u001b[2K   \u001b[90m━━━━━━━━━━━━━━━━━━━━━━━━━━━━━━━━━━━━━━━━\u001b[0m \u001b[32m5.5/5.5 MB\u001b[0m \u001b[31m57.6 MB/s\u001b[0m eta \u001b[36m0:00:00\u001b[0m\n",
            "\u001b[?25hInstalling collected packages: ml-dtypes, tensorboard, tensorflow\n",
            "  Attempting uninstall: ml-dtypes\n",
            "    Found existing installation: ml-dtypes 0.4.1\n",
            "    Uninstalling ml-dtypes-0.4.1:\n",
            "      Successfully uninstalled ml-dtypes-0.4.1\n",
            "  Attempting uninstall: tensorboard\n",
            "    Found existing installation: tensorboard 2.18.0\n",
            "    Uninstalling tensorboard-2.18.0:\n",
            "      Successfully uninstalled tensorboard-2.18.0\n",
            "  Attempting uninstall: tensorflow\n",
            "    Found existing installation: tensorflow 2.18.0\n",
            "    Uninstalling tensorflow-2.18.0:\n",
            "      Successfully uninstalled tensorflow-2.18.0\n",
            "\u001b[31mERROR: pip's dependency resolver does not currently take into account all the packages that are installed. This behaviour is the source of the following dependency conflicts.\n",
            "tf-keras 2.18.0 requires tensorflow<2.19,>=2.18, but you have tensorflow 2.19.0 which is incompatible.\n",
            "tensorflow-text 2.18.1 requires tensorflow<2.19,>=2.18.0, but you have tensorflow 2.19.0 which is incompatible.\u001b[0m\u001b[31m\n",
            "\u001b[0mSuccessfully installed ml-dtypes-0.5.1 tensorboard-2.19.0 tensorflow-2.19.0\n"
          ]
        }
      ],
      "source": [
        "# The way this tutorial uses the `TimeDistributed` layer requires TF>=2.10\n",
        "!pip install -U \"tensorflow>=2.10.0\""
      ]
    },
    {
      "cell_type": "code",
      "execution_count": 3,
      "metadata": {
        "id": "P5SBasQcbwQA",
        "outputId": "2de995d6-eb6f-4c7e-9739-050dc1d0d734",
        "colab": {
          "base_uri": "https://localhost:8080/"
        }
      },
      "outputs": [
        {
          "output_type": "stream",
          "name": "stdout",
          "text": [
            "Collecting remotezip\n",
            "  Downloading remotezip-0.12.3-py3-none-any.whl.metadata (7.2 kB)\n",
            "Requirement already satisfied: tqdm in /usr/local/lib/python3.11/dist-packages (4.67.1)\n",
            "Requirement already satisfied: opencv-python in /usr/local/lib/python3.11/dist-packages (4.11.0.86)\n",
            "Requirement already satisfied: requests in /usr/local/lib/python3.11/dist-packages (from remotezip) (2.32.3)\n",
            "Requirement already satisfied: numpy>=1.21.2 in /usr/local/lib/python3.11/dist-packages (from opencv-python) (2.0.2)\n",
            "Requirement already satisfied: charset-normalizer<4,>=2 in /usr/local/lib/python3.11/dist-packages (from requests->remotezip) (3.4.1)\n",
            "Requirement already satisfied: idna<4,>=2.5 in /usr/local/lib/python3.11/dist-packages (from requests->remotezip) (3.10)\n",
            "Requirement already satisfied: urllib3<3,>=1.21.1 in /usr/local/lib/python3.11/dist-packages (from requests->remotezip) (2.3.0)\n",
            "Requirement already satisfied: certifi>=2017.4.17 in /usr/local/lib/python3.11/dist-packages (from requests->remotezip) (2025.1.31)\n",
            "Downloading remotezip-0.12.3-py3-none-any.whl (8.1 kB)\n",
            "Installing collected packages: remotezip\n",
            "Successfully installed remotezip-0.12.3\n",
            "  Preparing metadata (setup.py) ... \u001b[?25l\u001b[?25hdone\n",
            "  Building wheel for tensorflow-docs (setup.py) ... \u001b[?25l\u001b[?25hdone\n"
          ]
        }
      ],
      "source": [
        "!pip install remotezip tqdm opencv-python\n",
        "!pip install -q git+https://github.com/tensorflow/docs"
      ]
    },
    {
      "cell_type": "code",
      "execution_count": 4,
      "metadata": {
        "id": "9RYQIJ9C6BVH"
      },
      "outputs": [],
      "source": [
        "import tqdm\n",
        "import random\n",
        "import pathlib\n",
        "import itertools\n",
        "import collections\n",
        "\n",
        "import os\n",
        "import cv2\n",
        "import numpy as np\n",
        "import remotezip as rz\n",
        "\n",
        "import tensorflow as tf\n",
        "\n",
        "# Some modules to display an animation using imageio.\n",
        "import imageio\n",
        "from IPython import display\n",
        "from urllib import request\n",
        "from tensorflow_docs.vis import embed"
      ]
    },
    {
      "cell_type": "markdown",
      "metadata": {
        "id": "KbhwWLLM7FXo"
      },
      "source": [
        "## Download a subset of the UCF101 dataset\n",
        "\n",
        "The [UCF101 dataset](https://www.tensorflow.org/datasets/catalog/ucf101) contains 101 categories of different actions in video, primarily used in action recognition. You will use a subset of these categories in this demo."
      ]
    },
    {
      "cell_type": "code",
      "execution_count": 5,
      "metadata": {
        "id": "gVIgj-jIA8U8"
      },
      "outputs": [],
      "source": [
        "URL = 'https://storage.googleapis.com/thumos14_files/UCF101_videos.zip'"
      ]
    },
    {
      "cell_type": "markdown",
      "metadata": {
        "id": "2tm8aBzw6Md7"
      },
      "source": [
        "The above URL contains a zip file with the UCF 101 dataset. Create a function that uses the `remotezip` library to examine the contents of the zip file in that URL:"
      ]
    },
    {
      "cell_type": "code",
      "execution_count": 6,
      "metadata": {
        "id": "lY-x7TaZlK6O"
      },
      "outputs": [],
      "source": [
        "def list_files_from_zip_url(zip_url):\n",
        "  \"\"\" List the files in each class of the dataset given a URL with the zip file.\n",
        "\n",
        "    Args:\n",
        "      zip_url: A URL from which the files can be extracted from.\n",
        "\n",
        "    Returns:\n",
        "      List of files in each of the classes.\n",
        "  \"\"\"\n",
        "  files = []\n",
        "  with rz.RemoteZip(zip_url) as zip:\n",
        "    for zip_info in zip.infolist():\n",
        "      files.append(zip_info.filename)\n",
        "  return files"
      ]
    },
    {
      "cell_type": "code",
      "execution_count": 7,
      "metadata": {
        "id": "lYErXAdUr-rk",
        "outputId": "efe01810-e0a9-444b-b150-f64bb0a6e17e",
        "colab": {
          "base_uri": "https://localhost:8080/"
        }
      },
      "outputs": [
        {
          "output_type": "execute_result",
          "data": {
            "text/plain": [
              "['UCF101/v_ApplyEyeMakeup_g01_c01.avi',\n",
              " 'UCF101/v_ApplyEyeMakeup_g01_c02.avi',\n",
              " 'UCF101/v_ApplyEyeMakeup_g01_c03.avi',\n",
              " 'UCF101/v_ApplyEyeMakeup_g01_c04.avi',\n",
              " 'UCF101/v_ApplyEyeMakeup_g01_c05.avi',\n",
              " 'UCF101/v_ApplyEyeMakeup_g01_c06.avi',\n",
              " 'UCF101/v_ApplyEyeMakeup_g02_c01.avi',\n",
              " 'UCF101/v_ApplyEyeMakeup_g02_c02.avi',\n",
              " 'UCF101/v_ApplyEyeMakeup_g02_c03.avi',\n",
              " 'UCF101/v_ApplyEyeMakeup_g02_c04.avi']"
            ]
          },
          "metadata": {},
          "execution_count": 7
        }
      ],
      "source": [
        "files = list_files_from_zip_url(URL)\n",
        "files = [f for f in files if f.endswith('.avi')]\n",
        "files[:10]"
      ]
    },
    {
      "cell_type": "markdown",
      "metadata": {
        "id": "rQ4l8D9dFPS7"
      },
      "source": [
        "Begin with a few videos and a limited number of classes for training. After running the above code block, notice that the class name is included in the filename of each video.\n",
        "\n",
        "Define the `get_class` function that retrieves the class name from a filename. Then, create a function called `get_files_per_class` which converts the list of all files (`files` above) into a dictionary listing the files for each class:"
      ]
    },
    {
      "cell_type": "code",
      "execution_count": 8,
      "metadata": {
        "id": "yyyivOX0sO19"
      },
      "outputs": [],
      "source": [
        "def get_class(fname):\n",
        "  \"\"\" Retrieve the name of the class given a filename.\n",
        "\n",
        "    Args:\n",
        "      fname: Name of the file in the UCF101 dataset.\n",
        "\n",
        "    Returns:\n",
        "      Class that the file belongs to.\n",
        "  \"\"\"\n",
        "  return fname.split('_')[-3]"
      ]
    },
    {
      "cell_type": "code",
      "execution_count": 9,
      "metadata": {
        "id": "1qnH0xKzlyw_"
      },
      "outputs": [],
      "source": [
        "def get_files_per_class(files):\n",
        "  \"\"\" Retrieve the files that belong to each class.\n",
        "\n",
        "    Args:\n",
        "      files: List of files in the dataset.\n",
        "\n",
        "    Returns:\n",
        "      Dictionary of class names (key) and files (values).\n",
        "  \"\"\"\n",
        "  files_for_class = collections.defaultdict(list)\n",
        "  for fname in files:\n",
        "    class_name = get_class(fname)\n",
        "    files_for_class[class_name].append(fname)\n",
        "  return files_for_class"
      ]
    },
    {
      "cell_type": "markdown",
      "metadata": {
        "id": "VxSt5YgSGrWn"
      },
      "source": [
        "Once you have the list of files per class, you can choose how many classes you would like to use and how many videos you would like per class in order to create your dataset."
      ]
    },
    {
      "cell_type": "code",
      "execution_count": 10,
      "metadata": {
        "id": "qPdURg74uUTk"
      },
      "outputs": [],
      "source": [
        "NUM_CLASSES = 10\n",
        "FILES_PER_CLASS = 50"
      ]
    },
    {
      "cell_type": "code",
      "execution_count": 18,
      "metadata": {
        "id": "GUs0xtXsr9i3"
      },
      "outputs": [],
      "source": [
        "files_for_class = get_files_per_class(files)\n",
        "classes = list(files_for_class.keys())\n",
        "# files_for_class"
      ]
    },
    {
      "cell_type": "code",
      "execution_count": 19,
      "metadata": {
        "id": "-YqFARvqwon9",
        "outputId": "4d16f594-cc0d-49ad-bd00-72a5d207abd6",
        "colab": {
          "base_uri": "https://localhost:8080/"
        }
      },
      "outputs": [
        {
          "output_type": "stream",
          "name": "stdout",
          "text": [
            "Num classes: 101\n",
            "Num videos for class[0]: 145\n"
          ]
        }
      ],
      "source": [
        "print('Num classes:', len(classes))\n",
        "print('Num videos for class[0]:', len(files_for_class[classes[0]]))"
      ]
    },
    {
      "cell_type": "markdown",
      "metadata": {
        "id": "yFAFqKqE92bQ"
      },
      "source": [
        "Create a new function called `select_subset_of_classes` that selects a subset of the classes present within the dataset and a particular number of files per class:"
      ]
    },
    {
      "cell_type": "code",
      "execution_count": 20,
      "metadata": {
        "id": "O3jek4QimIj-"
      },
      "outputs": [],
      "source": [
        "def select_subset_of_classes(files_for_class, classes, files_per_class):\n",
        "  \"\"\" Create a dictionary with the class name and a subset of the files in that class.\n",
        "\n",
        "    Args:\n",
        "      files_for_class: Dictionary of class names (key) and files (values).\n",
        "      classes: List of classes.\n",
        "      files_per_class: Number of files per class of interest.\n",
        "\n",
        "    Returns:\n",
        "      Dictionary with class as key and list of specified number of video files in that class.\n",
        "  \"\"\"\n",
        "  files_subset = dict()\n",
        "\n",
        "  for class_name in classes:\n",
        "    class_files = files_for_class[class_name]\n",
        "    files_subset[class_name] = class_files[:files_per_class]\n",
        "\n",
        "  return files_subset"
      ]
    },
    {
      "cell_type": "code",
      "execution_count": 23,
      "metadata": {
        "id": "5cjcz6Gpcb-W",
        "outputId": "3a0a0acf-b1e2-4497-f3a1-0a1e834282ce",
        "colab": {
          "base_uri": "https://localhost:8080/"
        }
      },
      "outputs": [
        {
          "output_type": "execute_result",
          "data": {
            "text/plain": [
              "['ApplyEyeMakeup',\n",
              " 'ApplyLipstick',\n",
              " 'Archery',\n",
              " 'BabyCrawling',\n",
              " 'BalanceBeam',\n",
              " 'BandMarching',\n",
              " 'BaseballPitch',\n",
              " 'BasketballDunk',\n",
              " 'Basketball',\n",
              " 'BenchPress']"
            ]
          },
          "metadata": {},
          "execution_count": 23
        }
      ],
      "source": [
        "files_subset = select_subset_of_classes(files_for_class, classes[:NUM_CLASSES], FILES_PER_CLASS)\n",
        "list(files_subset.keys())\n",
        "# files_subset"
      ]
    },
    {
      "cell_type": "markdown",
      "metadata": {
        "id": "ALrlDS1lZx3E"
      },
      "source": [
        "Define helper functions that split the videos into training, validation, and test sets. The videos are downloaded from a URL with the zip file, and placed into their respective subdirectiories."
      ]
    },
    {
      "cell_type": "code",
      "source": [
        "import os\n",
        "# os.getcwd()"
      ],
      "metadata": {
        "id": "jIdZVBieJ-Di",
        "outputId": "56e96272-591b-4968-9c24-3d06e2c66ffb",
        "colab": {
          "base_uri": "https://localhost:8080/",
          "height": 36
        }
      },
      "execution_count": 25,
      "outputs": [
        {
          "output_type": "execute_result",
          "data": {
            "text/plain": [
              "'/content'"
            ],
            "application/vnd.google.colaboratory.intrinsic+json": {
              "type": "string"
            }
          },
          "metadata": {},
          "execution_count": 25
        }
      ]
    },
    {
      "cell_type": "code",
      "execution_count": 24,
      "metadata": {
        "id": "AH9sWS_6nRz3"
      },
      "outputs": [],
      "source": [
        "def download_from_zip(zip_url, to_dir, file_names):\n",
        "  \"\"\" Download the contents of the zip file from the zip URL.\n",
        "\n",
        "    Args:\n",
        "      zip_url: A URL with a zip file containing data.\n",
        "      to_dir: A directory to download data to.\n",
        "      file_names: Names of files to download.\n",
        "  \"\"\"\n",
        "  with rz.RemoteZip(zip_url) as zip:\n",
        "    for fn in tqdm.tqdm(file_names):\n",
        "      class_name = get_class(fn)\n",
        "      zip.extract(fn, str(to_dir / class_name))\n",
        "      unzipped_file = to_dir / class_name / fn\n",
        "\n",
        "      fn = pathlib.Path(fn).parts[-1]\n",
        "      output_file = to_dir / class_name / fn\n",
        "      unzipped_file.rename(output_file)"
      ]
    },
    {
      "cell_type": "markdown",
      "metadata": {
        "id": "pejRTChA6mrp"
      },
      "source": [
        "The following function returns the remaining data that hasn't already been placed into a subset of data. It allows you to place that remaining data in the next specified subset of data."
      ]
    },
    {
      "cell_type": "code",
      "execution_count": 26,
      "metadata": {
        "id": "6ARYc-WLqqNF"
      },
      "outputs": [],
      "source": [
        "def split_class_lists(files_for_class, count):\n",
        "  \"\"\" Returns the list of files belonging to a subset of data as well as the remainder of\n",
        "    files that need to be downloaded.\n",
        "\n",
        "    Args:\n",
        "      files_for_class: Files belonging to a particular class of data.\n",
        "      count: Number of files to download.\n",
        "\n",
        "    Returns:\n",
        "      Files belonging to the subset of data and dictionary of the remainder of files that need to be downloaded.\n",
        "  \"\"\"\n",
        "  split_files = []\n",
        "  remainder = {}\n",
        "  for cls in files_for_class:\n",
        "    split_files.extend(files_for_class[cls][:count])\n",
        "    remainder[cls] = files_for_class[cls][count:]\n",
        "  return split_files, remainder"
      ]
    },
    {
      "cell_type": "markdown",
      "metadata": {
        "id": "LlEQ_I0TLd1X"
      },
      "source": [
        "The following `download_ucf_101_subset` function allows you to download a subset of the UCF101 dataset and split it into the training, validation, and test sets. You can specify the number of classes that you would like to use. The `splits` argument allows you to pass in a dictionary in which the key values are the name of subset (example: \"train\") and the number of videos you would like to have per class."
      ]
    },
    {
      "cell_type": "code",
      "execution_count": 27,
      "metadata": {
        "id": "IHH2Y1M06xoz"
      },
      "outputs": [],
      "source": [
        "def download_ucf_101_subset(zip_url, num_classes, splits, download_dir):\n",
        "  \"\"\" Download a subset of the UCF101 dataset and split them into various parts, such as\n",
        "    training, validation, and test.\n",
        "\n",
        "    Args:\n",
        "      zip_url: A URL with a ZIP file with the data.\n",
        "      num_classes: Number of labels.\n",
        "      splits: Dictionary specifying the training, validation, test, etc. (key) division of data\n",
        "              (value is number of files per split).\n",
        "      download_dir: Directory to download data to.\n",
        "\n",
        "    Return:\n",
        "      Mapping of the directories containing the subsections of data.\n",
        "  \"\"\"\n",
        "  files = list_files_from_zip_url(zip_url)\n",
        "  for f in files:\n",
        "    path = os.path.normpath(f)\n",
        "    tokens = path.split(os.sep)\n",
        "    if len(tokens) <= 2:\n",
        "      files.remove(f) # Remove that item from the list if it does not have a filename\n",
        "\n",
        "  files_for_class = get_files_per_class(files)\n",
        "\n",
        "  classes = list(files_for_class.keys())[:num_classes]\n",
        "\n",
        "  for cls in classes:\n",
        "    random.shuffle(files_for_class[cls])\n",
        "\n",
        "  # Only use the number of classes you want in the dictionary\n",
        "  files_for_class = {x: files_for_class[x] for x in classes}\n",
        "\n",
        "  dirs = {}\n",
        "  for split_name, split_count in splits.items():\n",
        "    print(split_name, \":\")\n",
        "    split_dir = download_dir / split_name\n",
        "    split_files, files_for_class = split_class_lists(files_for_class, split_count)\n",
        "    download_from_zip(zip_url, split_dir, split_files)\n",
        "    dirs[split_name] = split_dir\n",
        "  return dirs"
      ]
    },
    {
      "cell_type": "code",
      "execution_count": 28,
      "metadata": {
        "id": "NuD-xU8Q66Vm",
        "outputId": "6f153ae9-34a9-461b-bd89-87290e05e041",
        "colab": {
          "base_uri": "https://localhost:8080/"
        }
      },
      "outputs": [
        {
          "output_type": "stream",
          "name": "stdout",
          "text": [
            "train :\n"
          ]
        },
        {
          "output_type": "stream",
          "name": "stderr",
          "text": [
            "100%|██████████| 300/300 [00:33<00:00,  9.02it/s]\n"
          ]
        },
        {
          "output_type": "stream",
          "name": "stdout",
          "text": [
            "val :\n"
          ]
        },
        {
          "output_type": "stream",
          "name": "stderr",
          "text": [
            "100%|██████████| 100/100 [00:08<00:00, 11.89it/s]\n"
          ]
        },
        {
          "output_type": "stream",
          "name": "stdout",
          "text": [
            "test :\n"
          ]
        },
        {
          "output_type": "stream",
          "name": "stderr",
          "text": [
            "100%|██████████| 100/100 [00:08<00:00, 12.26it/s]\n"
          ]
        }
      ],
      "source": [
        "download_dir = pathlib.Path('./UCF101_subset/')\n",
        "subset_paths = download_ucf_101_subset(URL,\n",
        "                                       num_classes = NUM_CLASSES,\n",
        "                                       splits = {\"train\": 30, \"val\": 10, \"test\": 10},\n",
        "                                       download_dir = download_dir)"
      ]
    },
    {
      "cell_type": "markdown",
      "metadata": {
        "id": "MBMRm9Ub3Zrk"
      },
      "source": [
        "After downloading the data, you should now have a copy of a subset of the UCF101 dataset. Run the following code to print the total number of videos you have amongst all your subsets of data."
      ]
    },
    {
      "cell_type": "code",
      "execution_count": 29,
      "metadata": {
        "id": "zupvOLYP4D4q",
        "outputId": "66267ecf-f157-41ae-fb36-ee7ccad88e06",
        "colab": {
          "base_uri": "https://localhost:8080/"
        }
      },
      "outputs": [
        {
          "output_type": "stream",
          "name": "stdout",
          "text": [
            "Total videos: 500\n"
          ]
        }
      ],
      "source": [
        "video_count_train = len(list(download_dir.glob('train/*/*.avi')))\n",
        "video_count_val = len(list(download_dir.glob('val/*/*.avi')))\n",
        "video_count_test = len(list(download_dir.glob('test/*/*.avi')))\n",
        "video_total = video_count_train + video_count_val + video_count_test\n",
        "print(f\"Total videos: {video_total}\")"
      ]
    },
    {
      "cell_type": "markdown",
      "metadata": {
        "id": "JmJG1SlXiOX8"
      },
      "source": [
        "You can also preview the directory of data files now."
      ]
    },
    {
      "cell_type": "code",
      "execution_count": 30,
      "metadata": {
        "id": "y9be0WlDiNM0",
        "outputId": "b527af9c-681b-458e-d7d4-07411e828db9",
        "colab": {
          "base_uri": "https://localhost:8080/"
        }
      },
      "outputs": [
        {
          "output_type": "stream",
          "name": "stdout",
          "text": [
            "./UCF101_subset\n",
            "./UCF101_subset/val\n",
            "./UCF101_subset/val/BenchPress\n",
            "./UCF101_subset/val/BenchPress/v_BenchPress_g18_c07.avi\n",
            "./UCF101_subset/val/BenchPress/v_BenchPress_g12_c02.avi\n",
            "./UCF101_subset/val/BenchPress/v_BenchPress_g22_c03.avi\n",
            "./UCF101_subset/val/BenchPress/v_BenchPress_g09_c06.avi\n",
            "./UCF101_subset/val/BenchPress/v_BenchPress_g02_c07.avi\n",
            "./UCF101_subset/val/BenchPress/UCF101\n",
            "./UCF101_subset/val/BenchPress/v_BenchPress_g19_c06.avi\n",
            "./UCF101_subset/val/BenchPress/v_BenchPress_g01_c03.avi\n",
            "./UCF101_subset/val/BenchPress/v_BenchPress_g17_c06.avi\n",
            "./UCF101_subset/val/BenchPress/v_BenchPress_g20_c04.avi\n",
            "./UCF101_subset/val/BenchPress/v_BenchPress_g25_c06.avi\n",
            "./UCF101_subset/val/BandMarching\n",
            "./UCF101_subset/val/BandMarching/v_BandMarching_g13_c04.avi\n",
            "./UCF101_subset/val/BandMarching/v_BandMarching_g06_c03.avi\n",
            "./UCF101_subset/val/BandMarching/v_BandMarching_g12_c04.avi\n",
            "./UCF101_subset/val/BandMarching/v_BandMarching_g25_c05.avi\n",
            "./UCF101_subset/val/BandMarching/UCF101\n",
            "./UCF101_subset/val/BandMarching/v_BandMarching_g09_c03.avi\n",
            "./UCF101_subset/val/BandMarching/v_BandMarching_g04_c04.avi\n",
            "./UCF101_subset/val/BandMarching/v_BandMarching_g25_c01.avi\n",
            "./UCF101_subset/val/BandMarching/v_BandMarching_g10_c02.avi\n",
            "./UCF101_subset/val/BandMarching/v_BandMarching_g23_c05.avi\n",
            "./UCF101_subset/val/BandMarching/v_BandMarching_g11_c01.avi\n",
            "./UCF101_subset/val/BabyCrawling\n",
            "./UCF101_subset/val/BabyCrawling/v_BabyCrawling_g15_c03.avi\n",
            "./UCF101_subset/val/BabyCrawling/v_BabyCrawling_g22_c02.avi\n",
            "./UCF101_subset/val/BabyCrawling/v_BabyCrawling_g12_c01.avi\n",
            "./UCF101_subset/val/BabyCrawling/UCF101\n",
            "./UCF101_subset/val/BabyCrawling/v_BabyCrawling_g20_c07.avi\n",
            "./UCF101_subset/val/BabyCrawling/v_BabyCrawling_g14_c01.avi\n",
            "./UCF101_subset/val/BabyCrawling/v_BabyCrawling_g17_c05.avi\n",
            "./UCF101_subset/val/BabyCrawling/v_BabyCrawling_g13_c05.avi\n",
            "./UCF101_subset/val/BabyCrawling/v_BabyCrawling_g07_c02.avi\n",
            "./UCF101_subset/val/BabyCrawling/v_BabyCrawling_g02_c03.avi\n",
            "./UCF101_subset/val/BabyCrawling/v_BabyCrawling_g20_c03.avi\n",
            "./UCF101_subset/val/BaseballPitch\n",
            "./UCF101_subset/val/BaseballPitch/v_BaseballPitch_g22_c06.avi\n",
            "./UCF101_subset/val/BaseballPitch/v_BaseballPitch_g18_c06.avi\n",
            "./UCF101_subset/val/BaseballPitch/v_BaseballPitch_g16_c01.avi\n",
            "./UCF101_subset/val/BaseballPitch/v_BaseballPitch_g16_c05.avi\n",
            "./UCF101_subset/val/BaseballPitch/v_BaseballPitch_g01_c06.avi\n",
            "./UCF101_subset/val/BaseballPitch/v_BaseballPitch_g17_c01.avi\n",
            "./UCF101_subset/val/BaseballPitch/v_BaseballPitch_g08_c05.avi\n",
            "./UCF101_subset/val/BaseballPitch/UCF101\n",
            "./UCF101_subset/val/BaseballPitch/v_BaseballPitch_g09_c02.avi\n",
            "./UCF101_subset/val/BaseballPitch/v_BaseballPitch_g03_c06.avi\n",
            "./UCF101_subset/val/BaseballPitch/v_BaseballPitch_g14_c02.avi\n",
            "./UCF101_subset/val/Archery\n",
            "./UCF101_subset/val/Archery/v_Archery_g13_c03.avi\n",
            "./UCF101_subset/val/Archery/v_Archery_g02_c07.avi\n",
            "./UCF101_subset/val/Archery/v_Archery_g01_c04.avi\n",
            "./UCF101_subset/val/Archery/v_Archery_g17_c02.avi\n",
            "./UCF101_subset/val/Archery/v_Archery_g04_c01.avi\n",
            "./UCF101_subset/val/Archery/UCF101\n",
            "./UCF101_subset/val/Archery/v_Archery_g02_c05.avi\n",
            "./UCF101_subset/val/Archery/v_Archery_g06_c05.avi\n",
            "./UCF101_subset/val/Archery/v_Archery_g10_c03.avi\n",
            "./UCF101_subset/val/Archery/v_Archery_g10_c05.avi\n",
            "./UCF101_subset/val/Archery/v_Archery_g09_c06.avi\n",
            "./UCF101_subset/val/ApplyLipstick\n",
            "./UCF101_subset/val/ApplyLipstick/v_ApplyLipstick_g25_c02.avi\n",
            "./UCF101_subset/val/ApplyLipstick/v_ApplyLipstick_g05_c02.avi\n",
            "./UCF101_subset/val/ApplyLipstick/v_ApplyLipstick_g07_c02.avi\n",
            "./UCF101_subset/val/ApplyLipstick/v_ApplyLipstick_g13_c01.avi\n",
            "./UCF101_subset/val/ApplyLipstick/v_ApplyLipstick_g01_c02.avi\n",
            "./UCF101_subset/val/ApplyLipstick/UCF101\n",
            "./UCF101_subset/val/ApplyLipstick/v_ApplyLipstick_g16_c02.avi\n",
            "./UCF101_subset/val/ApplyLipstick/v_ApplyLipstick_g22_c06.avi\n",
            "./UCF101_subset/val/ApplyLipstick/v_ApplyLipstick_g04_c01.avi\n",
            "./UCF101_subset/val/ApplyLipstick/v_ApplyLipstick_g20_c02.avi\n",
            "./UCF101_subset/val/ApplyLipstick/v_ApplyLipstick_g09_c04.avi\n",
            "./UCF101_subset/val/BasketballDunk\n",
            "./UCF101_subset/val/BasketballDunk/v_BasketballDunk_g02_c01.avi\n",
            "./UCF101_subset/val/BasketballDunk/v_BasketballDunk_g23_c03.avi\n",
            "./UCF101_subset/val/BasketballDunk/v_BasketballDunk_g22_c03.avi\n",
            "./UCF101_subset/val/BasketballDunk/v_BasketballDunk_g06_c03.avi\n",
            "./UCF101_subset/val/BasketballDunk/v_BasketballDunk_g05_c01.avi\n",
            "./UCF101_subset/val/BasketballDunk/v_BasketballDunk_g14_c02.avi\n",
            "./UCF101_subset/val/BasketballDunk/UCF101\n",
            "./UCF101_subset/val/BasketballDunk/v_BasketballDunk_g05_c03.avi\n",
            "./UCF101_subset/val/BasketballDunk/v_BasketballDunk_g14_c06.avi\n",
            "./UCF101_subset/val/BasketballDunk/v_BasketballDunk_g15_c03.avi\n",
            "./UCF101_subset/val/BasketballDunk/v_BasketballDunk_g16_c06.avi\n",
            "./UCF101_subset/val/Basketball\n",
            "./UCF101_subset/val/Basketball/v_Basketball_g13_c04.avi\n",
            "./UCF101_subset/val/Basketball/v_Basketball_g10_c03.avi\n",
            "./UCF101_subset/val/Basketball/v_Basketball_g21_c03.avi\n",
            "./UCF101_subset/val/Basketball/v_Basketball_g20_c02.avi\n",
            "./UCF101_subset/val/Basketball/UCF101\n",
            "./UCF101_subset/val/Basketball/v_Basketball_g10_c01.avi\n",
            "./UCF101_subset/val/Basketball/v_Basketball_g16_c02.avi\n",
            "./UCF101_subset/val/Basketball/v_Basketball_g25_c06.avi\n",
            "./UCF101_subset/val/Basketball/v_Basketball_g21_c01.avi\n",
            "./UCF101_subset/val/Basketball/v_Basketball_g19_c07.avi\n",
            "./UCF101_subset/val/Basketball/v_Basketball_g01_c05.avi\n",
            "./UCF101_subset/val/BalanceBeam\n",
            "./UCF101_subset/val/BalanceBeam/v_BalanceBeam_g06_c01.avi\n",
            "./UCF101_subset/val/BalanceBeam/v_BalanceBeam_g21_c03.avi\n",
            "./UCF101_subset/val/BalanceBeam/v_BalanceBeam_g02_c03.avi\n",
            "./UCF101_subset/val/BalanceBeam/v_BalanceBeam_g08_c02.avi\n",
            "./UCF101_subset/val/BalanceBeam/v_BalanceBeam_g23_c02.avi\n",
            "./UCF101_subset/val/BalanceBeam/v_BalanceBeam_g20_c03.avi\n",
            "./UCF101_subset/val/BalanceBeam/UCF101\n",
            "./UCF101_subset/val/BalanceBeam/v_BalanceBeam_g19_c01.avi\n",
            "./UCF101_subset/val/BalanceBeam/v_BalanceBeam_g21_c01.avi\n",
            "./UCF101_subset/val/BalanceBeam/v_BalanceBeam_g24_c03.avi\n",
            "./UCF101_subset/val/BalanceBeam/v_BalanceBeam_g16_c01.avi\n",
            "./UCF101_subset/val/ApplyEyeMakeup\n",
            "./UCF101_subset/val/ApplyEyeMakeup/v_ApplyEyeMakeup_g10_c05.avi\n",
            "./UCF101_subset/val/ApplyEyeMakeup/v_ApplyEyeMakeup_g14_c01.avi\n",
            "./UCF101_subset/val/ApplyEyeMakeup/v_ApplyEyeMakeup_g20_c02.avi\n",
            "./UCF101_subset/val/ApplyEyeMakeup/v_ApplyEyeMakeup_g09_c02.avi\n",
            "./UCF101_subset/val/ApplyEyeMakeup/v_ApplyEyeMakeup_g15_c06.avi\n",
            "./UCF101_subset/val/ApplyEyeMakeup/UCF101\n",
            "./UCF101_subset/val/ApplyEyeMakeup/v_ApplyEyeMakeup_g13_c03.avi\n",
            "./UCF101_subset/val/ApplyEyeMakeup/v_ApplyEyeMakeup_g03_c01.avi\n",
            "./UCF101_subset/val/ApplyEyeMakeup/v_ApplyEyeMakeup_g25_c05.avi\n",
            "./UCF101_subset/val/ApplyEyeMakeup/v_ApplyEyeMakeup_g09_c06.avi\n",
            "./UCF101_subset/val/ApplyEyeMakeup/v_ApplyEyeMakeup_g08_c01.avi\n",
            "./UCF101_subset/test\n",
            "./UCF101_subset/test/BenchPress\n",
            "./UCF101_subset/test/BenchPress/v_BenchPress_g17_c04.avi\n",
            "./UCF101_subset/test/BenchPress/v_BenchPress_g13_c01.avi\n",
            "./UCF101_subset/test/BenchPress/v_BenchPress_g16_c05.avi\n",
            "./UCF101_subset/test/BenchPress/UCF101\n",
            "./UCF101_subset/test/BenchPress/v_BenchPress_g23_c04.avi\n",
            "./UCF101_subset/test/BenchPress/v_BenchPress_g11_c01.avi\n",
            "./UCF101_subset/test/BenchPress/v_BenchPress_g22_c05.avi\n",
            "./UCF101_subset/test/BenchPress/v_BenchPress_g18_c05.avi\n",
            "./UCF101_subset/test/BenchPress/v_BenchPress_g06_c07.avi\n",
            "./UCF101_subset/test/BenchPress/v_BenchPress_g02_c05.avi\n",
            "./UCF101_subset/test/BenchPress/v_BenchPress_g14_c04.avi\n",
            "./UCF101_subset/test/BandMarching\n",
            "./UCF101_subset/test/BandMarching/v_BandMarching_g11_c07.avi\n",
            "./UCF101_subset/test/BandMarching/UCF101\n",
            "./UCF101_subset/test/BandMarching/v_BandMarching_g14_c03.avi\n",
            "./UCF101_subset/test/BandMarching/v_BandMarching_g03_c05.avi\n",
            "./UCF101_subset/test/BandMarching/v_BandMarching_g04_c02.avi\n",
            "./UCF101_subset/test/BandMarching/v_BandMarching_g23_c01.avi\n",
            "./UCF101_subset/test/BandMarching/v_BandMarching_g25_c07.avi\n",
            "./UCF101_subset/test/BandMarching/v_BandMarching_g24_c03.avi\n",
            "./UCF101_subset/test/BandMarching/v_BandMarching_g08_c02.avi\n",
            "./UCF101_subset/test/BandMarching/v_BandMarching_g02_c06.avi\n",
            "./UCF101_subset/test/BandMarching/v_BandMarching_g03_c01.avi\n",
            "./UCF101_subset/test/BabyCrawling\n",
            "./UCF101_subset/test/BabyCrawling/v_BabyCrawling_g15_c01.avi\n",
            "./UCF101_subset/test/BabyCrawling/v_BabyCrawling_g24_c03.avi\n",
            "./UCF101_subset/test/BabyCrawling/v_BabyCrawling_g25_c01.avi\n",
            "./UCF101_subset/test/BabyCrawling/v_BabyCrawling_g11_c01.avi\n",
            "./UCF101_subset/test/BabyCrawling/UCF101\n",
            "./UCF101_subset/test/BabyCrawling/v_BabyCrawling_g14_c03.avi\n",
            "./UCF101_subset/test/BabyCrawling/v_BabyCrawling_g09_c02.avi\n",
            "./UCF101_subset/test/BabyCrawling/v_BabyCrawling_g05_c03.avi\n",
            "./UCF101_subset/test/BabyCrawling/v_BabyCrawling_g06_c02.avi\n",
            "./UCF101_subset/test/BabyCrawling/v_BabyCrawling_g05_c01.avi\n",
            "./UCF101_subset/test/BabyCrawling/v_BabyCrawling_g17_c01.avi\n",
            "./UCF101_subset/test/BaseballPitch\n",
            "./UCF101_subset/test/BaseballPitch/v_BaseballPitch_g15_c06.avi\n",
            "./UCF101_subset/test/BaseballPitch/v_BaseballPitch_g18_c02.avi\n",
            "./UCF101_subset/test/BaseballPitch/v_BaseballPitch_g13_c01.avi\n",
            "./UCF101_subset/test/BaseballPitch/v_BaseballPitch_g03_c04.avi\n",
            "./UCF101_subset/test/BaseballPitch/v_BaseballPitch_g06_c03.avi\n",
            "./UCF101_subset/test/BaseballPitch/UCF101\n",
            "./UCF101_subset/test/BaseballPitch/v_BaseballPitch_g01_c04.avi\n",
            "./UCF101_subset/test/BaseballPitch/v_BaseballPitch_g04_c01.avi\n",
            "./UCF101_subset/test/BaseballPitch/v_BaseballPitch_g04_c03.avi\n",
            "./UCF101_subset/test/BaseballPitch/v_BaseballPitch_g05_c06.avi\n",
            "./UCF101_subset/test/BaseballPitch/v_BaseballPitch_g08_c03.avi\n",
            "./UCF101_subset/test/Archery\n",
            "./UCF101_subset/test/Archery/v_Archery_g05_c02.avi\n",
            "./UCF101_subset/test/Archery/v_Archery_g25_c06.avi\n",
            "./UCF101_subset/test/Archery/v_Archery_g16_c01.avi\n",
            "./UCF101_subset/test/Archery/UCF101\n",
            "./UCF101_subset/test/Archery/v_Archery_g04_c03.avi\n",
            "./UCF101_subset/test/Archery/v_Archery_g20_c05.avi\n",
            "./UCF101_subset/test/Archery/v_Archery_g06_c03.avi\n",
            "./UCF101_subset/test/Archery/v_Archery_g15_c02.avi\n",
            "./UCF101_subset/test/Archery/v_Archery_g12_c03.avi\n",
            "./UCF101_subset/test/Archery/v_Archery_g25_c04.avi\n",
            "./UCF101_subset/test/Archery/v_Archery_g23_c07.avi\n",
            "./UCF101_subset/test/ApplyLipstick\n",
            "./UCF101_subset/test/ApplyLipstick/v_ApplyLipstick_g12_c02.avi\n",
            "./UCF101_subset/test/ApplyLipstick/v_ApplyLipstick_g15_c05.avi\n",
            "./UCF101_subset/test/ApplyLipstick/v_ApplyLipstick_g02_c01.avi\n",
            "./UCF101_subset/test/ApplyLipstick/UCF101\n",
            "./UCF101_subset/test/ApplyLipstick/v_ApplyLipstick_g13_c03.avi\n",
            "./UCF101_subset/test/ApplyLipstick/v_ApplyLipstick_g10_c04.avi\n",
            "./UCF101_subset/test/ApplyLipstick/v_ApplyLipstick_g04_c03.avi\n",
            "./UCF101_subset/test/ApplyLipstick/v_ApplyLipstick_g16_c04.avi\n",
            "./UCF101_subset/test/ApplyLipstick/v_ApplyLipstick_g07_c04.avi\n",
            "./UCF101_subset/test/ApplyLipstick/v_ApplyLipstick_g06_c03.avi\n",
            "./UCF101_subset/test/ApplyLipstick/v_ApplyLipstick_g22_c04.avi\n",
            "./UCF101_subset/test/BasketballDunk\n",
            "./UCF101_subset/test/BasketballDunk/v_BasketballDunk_g24_c04.avi\n",
            "./UCF101_subset/test/BasketballDunk/v_BasketballDunk_g15_c01.avi\n",
            "./UCF101_subset/test/BasketballDunk/v_BasketballDunk_g08_c03.avi\n",
            "./UCF101_subset/test/BasketballDunk/v_BasketballDunk_g10_c01.avi\n",
            "./UCF101_subset/test/BasketballDunk/UCF101\n",
            "./UCF101_subset/test/BasketballDunk/v_BasketballDunk_g07_c03.avi\n",
            "./UCF101_subset/test/BasketballDunk/v_BasketballDunk_g18_c05.avi\n",
            "./UCF101_subset/test/BasketballDunk/v_BasketballDunk_g01_c02.avi\n",
            "./UCF101_subset/test/BasketballDunk/v_BasketballDunk_g11_c04.avi\n",
            "./UCF101_subset/test/BasketballDunk/v_BasketballDunk_g20_c03.avi\n",
            "./UCF101_subset/test/BasketballDunk/v_BasketballDunk_g04_c03.avi\n",
            "./UCF101_subset/test/Basketball\n",
            "./UCF101_subset/test/Basketball/v_Basketball_g12_c03.avi\n",
            "./UCF101_subset/test/Basketball/v_Basketball_g07_c02.avi\n",
            "./UCF101_subset/test/Basketball/v_Basketball_g12_c05.avi\n",
            "./UCF101_subset/test/Basketball/v_Basketball_g22_c01.avi\n",
            "./UCF101_subset/test/Basketball/UCF101\n",
            "./UCF101_subset/test/Basketball/v_Basketball_g04_c04.avi\n",
            "./UCF101_subset/test/Basketball/v_Basketball_g13_c02.avi\n",
            "./UCF101_subset/test/Basketball/v_Basketball_g22_c07.avi\n",
            "./UCF101_subset/test/Basketball/v_Basketball_g15_c01.avi\n",
            "./UCF101_subset/test/Basketball/v_Basketball_g01_c01.avi\n",
            "./UCF101_subset/test/Basketball/v_Basketball_g02_c04.avi\n",
            "./UCF101_subset/test/BalanceBeam\n",
            "./UCF101_subset/test/BalanceBeam/v_BalanceBeam_g01_c01.avi\n",
            "./UCF101_subset/test/BalanceBeam/v_BalanceBeam_g22_c02.avi\n",
            "./UCF101_subset/test/BalanceBeam/v_BalanceBeam_g11_c02.avi\n",
            "./UCF101_subset/test/BalanceBeam/v_BalanceBeam_g10_c04.avi\n",
            "./UCF101_subset/test/BalanceBeam/UCF101\n",
            "./UCF101_subset/test/BalanceBeam/v_BalanceBeam_g12_c04.avi\n",
            "./UCF101_subset/test/BalanceBeam/v_BalanceBeam_g15_c01.avi\n",
            "./UCF101_subset/test/BalanceBeam/v_BalanceBeam_g12_c02.avi\n",
            "./UCF101_subset/test/BalanceBeam/v_BalanceBeam_g13_c02.avi\n",
            "./UCF101_subset/test/BalanceBeam/v_BalanceBeam_g10_c02.avi\n",
            "./UCF101_subset/test/BalanceBeam/v_BalanceBeam_g11_c04.avi\n",
            "./UCF101_subset/test/ApplyEyeMakeup\n",
            "./UCF101_subset/test/ApplyEyeMakeup/v_ApplyEyeMakeup_g22_c05.avi\n",
            "./UCF101_subset/test/ApplyEyeMakeup/v_ApplyEyeMakeup_g04_c07.avi\n",
            "./UCF101_subset/test/ApplyEyeMakeup/v_ApplyEyeMakeup_g17_c04.avi\n",
            "./UCF101_subset/test/ApplyEyeMakeup/v_ApplyEyeMakeup_g10_c01.avi\n",
            "./UCF101_subset/test/ApplyEyeMakeup/UCF101\n",
            "./UCF101_subset/test/ApplyEyeMakeup/v_ApplyEyeMakeup_g15_c04.avi\n",
            "./UCF101_subset/test/ApplyEyeMakeup/v_ApplyEyeMakeup_g08_c03.avi\n",
            "./UCF101_subset/test/ApplyEyeMakeup/v_ApplyEyeMakeup_g01_c03.avi\n",
            "./UCF101_subset/test/ApplyEyeMakeup/v_ApplyEyeMakeup_g12_c03.avi\n",
            "./UCF101_subset/test/ApplyEyeMakeup/v_ApplyEyeMakeup_g18_c05.avi\n",
            "./UCF101_subset/test/ApplyEyeMakeup/v_ApplyEyeMakeup_g01_c05.avi\n",
            "./UCF101_subset/train\n",
            "./UCF101_subset/train/BenchPress\n",
            "./UCF101_subset/train/BenchPress/v_BenchPress_g24_c03.avi\n",
            "./UCF101_subset/train/BenchPress/v_BenchPress_g24_c05.avi\n",
            "./UCF101_subset/train/BenchPress/v_BenchPress_g15_c03.avi\n",
            "./UCF101_subset/train/BenchPress/v_BenchPress_g21_c03.avi\n",
            "./UCF101_subset/train/BenchPress/v_BenchPress_g11_c03.avi\n",
            "./UCF101_subset/train/BenchPress/v_BenchPress_g04_c01.avi\n",
            "./UCF101_subset/train/BenchPress/v_BenchPress_g18_c03.avi\n",
            "./UCF101_subset/train/BenchPress/v_BenchPress_g12_c06.avi\n",
            "./UCF101_subset/train/BenchPress/v_BenchPress_g04_c03.avi\n",
            "./UCF101_subset/train/BenchPress/v_BenchPress_g03_c02.avi\n",
            "./UCF101_subset/train/BenchPress/v_BenchPress_g19_c02.avi\n",
            "./UCF101_subset/train/BenchPress/v_BenchPress_g08_c05.avi\n",
            "./UCF101_subset/train/BenchPress/v_BenchPress_g08_c01.avi\n",
            "./UCF101_subset/train/BenchPress/v_BenchPress_g13_c07.avi\n",
            "./UCF101_subset/train/BenchPress/UCF101\n",
            "./UCF101_subset/train/BenchPress/v_BenchPress_g07_c06.avi\n",
            "./UCF101_subset/train/BenchPress/v_BenchPress_g14_c06.avi\n",
            "./UCF101_subset/train/BenchPress/v_BenchPress_g22_c07.avi\n",
            "./UCF101_subset/train/BenchPress/v_BenchPress_g16_c01.avi\n",
            "./UCF101_subset/train/BenchPress/v_BenchPress_g21_c01.avi\n",
            "./UCF101_subset/train/BenchPress/v_BenchPress_g05_c02.avi\n",
            "./UCF101_subset/train/BenchPress/v_BenchPress_g23_c02.avi\n",
            "./UCF101_subset/train/BenchPress/v_BenchPress_g16_c03.avi\n",
            "./UCF101_subset/train/BenchPress/v_BenchPress_g03_c04.avi\n",
            "./UCF101_subset/train/BenchPress/v_BenchPress_g04_c05.avi\n",
            "./UCF101_subset/train/BenchPress/v_BenchPress_g25_c04.avi\n",
            "./UCF101_subset/train/BenchPress/v_BenchPress_g12_c04.avi\n",
            "./UCF101_subset/train/BenchPress/v_BenchPress_g18_c01.avi\n",
            "./UCF101_subset/train/BenchPress/v_BenchPress_g25_c02.avi\n",
            "./UCF101_subset/train/BenchPress/v_BenchPress_g10_c01.avi\n",
            "./UCF101_subset/train/BenchPress/v_BenchPress_g08_c07.avi\n",
            "./UCF101_subset/train/BandMarching\n",
            "./UCF101_subset/train/BandMarching/v_BandMarching_g01_c05.avi\n",
            "./UCF101_subset/train/BandMarching/v_BandMarching_g13_c02.avi\n",
            "./UCF101_subset/train/BandMarching/v_BandMarching_g15_c05.avi\n",
            "./UCF101_subset/train/BandMarching/v_BandMarching_g18_c05.avi\n",
            "./UCF101_subset/train/BandMarching/v_BandMarching_g07_c01.avi\n",
            "./UCF101_subset/train/BandMarching/v_BandMarching_g05_c06.avi\n",
            "./UCF101_subset/train/BandMarching/v_BandMarching_g01_c03.avi\n",
            "./UCF101_subset/train/BandMarching/v_BandMarching_g07_c03.avi\n",
            "./UCF101_subset/train/BandMarching/v_BandMarching_g20_c02.avi\n",
            "./UCF101_subset/train/BandMarching/v_BandMarching_g18_c03.avi\n",
            "./UCF101_subset/train/BandMarching/v_BandMarching_g16_c02.avi\n",
            "./UCF101_subset/train/BandMarching/v_BandMarching_g24_c05.avi\n",
            "./UCF101_subset/train/BandMarching/v_BandMarching_g16_c06.avi\n",
            "./UCF101_subset/train/BandMarching/UCF101\n",
            "./UCF101_subset/train/BandMarching/v_BandMarching_g12_c06.avi\n",
            "./UCF101_subset/train/BandMarching/v_BandMarching_g11_c03.avi\n",
            "./UCF101_subset/train/BandMarching/v_BandMarching_g05_c04.avi\n",
            "./UCF101_subset/train/BandMarching/v_BandMarching_g19_c01.avi\n",
            "./UCF101_subset/train/BandMarching/v_BandMarching_g15_c01.avi\n",
            "./UCF101_subset/train/BandMarching/v_BandMarching_g23_c03.avi\n",
            "./UCF101_subset/train/BandMarching/v_BandMarching_g19_c07.avi\n",
            "./UCF101_subset/train/BandMarching/v_BandMarching_g24_c01.avi\n",
            "./UCF101_subset/train/BandMarching/v_BandMarching_g01_c01.avi\n",
            "./UCF101_subset/train/BandMarching/v_BandMarching_g02_c04.avi\n",
            "./UCF101_subset/train/BandMarching/v_BandMarching_g19_c05.avi\n",
            "./UCF101_subset/train/BandMarching/v_BandMarching_g14_c01.avi\n",
            "./UCF101_subset/train/BandMarching/v_BandMarching_g17_c01.avi\n",
            "./UCF101_subset/train/BandMarching/v_BandMarching_g14_c05.avi\n",
            "./UCF101_subset/train/BandMarching/v_BandMarching_g18_c01.avi\n",
            "./UCF101_subset/train/BandMarching/v_BandMarching_g09_c05.avi\n",
            "./UCF101_subset/train/BandMarching/v_BandMarching_g09_c01.avi\n",
            "./UCF101_subset/train/BabyCrawling\n",
            "./UCF101_subset/train/BabyCrawling/v_BabyCrawling_g21_c04.avi\n",
            "./UCF101_subset/train/BabyCrawling/v_BabyCrawling_g16_c01.avi\n",
            "./UCF101_subset/train/BabyCrawling/v_BabyCrawling_g17_c03.avi\n",
            "./UCF101_subset/train/BabyCrawling/v_BabyCrawling_g24_c05.avi\n",
            "./UCF101_subset/train/BabyCrawling/v_BabyCrawling_g12_c05.avi\n",
            "./UCF101_subset/train/BabyCrawling/v_BabyCrawling_g13_c03.avi\n",
            "./UCF101_subset/train/BabyCrawling/v_BabyCrawling_g18_c04.avi\n",
            "./UCF101_subset/train/BabyCrawling/v_BabyCrawling_g24_c01.avi\n",
            "./UCF101_subset/train/BabyCrawling/v_BabyCrawling_g11_c03.avi\n",
            "./UCF101_subset/train/BabyCrawling/v_BabyCrawling_g19_c04.avi\n",
            "./UCF101_subset/train/BabyCrawling/v_BabyCrawling_g19_c02.avi\n",
            "./UCF101_subset/train/BabyCrawling/v_BabyCrawling_g09_c06.avi\n",
            "./UCF101_subset/train/BabyCrawling/v_BabyCrawling_g20_c05.avi\n",
            "./UCF101_subset/train/BabyCrawling/v_BabyCrawling_g25_c03.avi\n",
            "./UCF101_subset/train/BabyCrawling/v_BabyCrawling_g12_c03.avi\n",
            "./UCF101_subset/train/BabyCrawling/v_BabyCrawling_g01_c01.avi\n",
            "./UCF101_subset/train/BabyCrawling/v_BabyCrawling_g18_c02.avi\n",
            "./UCF101_subset/train/BabyCrawling/v_BabyCrawling_g08_c02.avi\n",
            "./UCF101_subset/train/BabyCrawling/UCF101\n",
            "./UCF101_subset/train/BabyCrawling/v_BabyCrawling_g03_c03.avi\n",
            "./UCF101_subset/train/BabyCrawling/v_BabyCrawling_g08_c04.avi\n",
            "./UCF101_subset/train/BabyCrawling/v_BabyCrawling_g07_c04.avi\n",
            "./UCF101_subset/train/BabyCrawling/v_BabyCrawling_g05_c05.avi\n",
            "./UCF101_subset/train/BabyCrawling/v_BabyCrawling_g18_c06.avi\n",
            "./UCF101_subset/train/BabyCrawling/v_BabyCrawling_g22_c06.avi\n",
            "./UCF101_subset/train/BabyCrawling/v_BabyCrawling_g03_c01.avi\n",
            "./UCF101_subset/train/BabyCrawling/v_BabyCrawling_g10_c04.avi\n",
            "./UCF101_subset/train/BabyCrawling/v_BabyCrawling_g04_c03.avi\n",
            "./UCF101_subset/train/BabyCrawling/v_BabyCrawling_g06_c04.avi\n",
            "./UCF101_subset/train/BabyCrawling/v_BabyCrawling_g23_c01.avi\n",
            "./UCF101_subset/train/BabyCrawling/v_BabyCrawling_g15_c05.avi\n",
            "./UCF101_subset/train/BaseballPitch\n",
            "./UCF101_subset/train/BaseballPitch/v_BaseballPitch_g19_c01.avi\n",
            "./UCF101_subset/train/BaseballPitch/v_BaseballPitch_g09_c04.avi\n",
            "./UCF101_subset/train/BaseballPitch/v_BaseballPitch_g06_c01.avi\n",
            "./UCF101_subset/train/BaseballPitch/v_BaseballPitch_g16_c03.avi\n",
            "./UCF101_subset/train/BaseballPitch/v_BaseballPitch_g11_c02.avi\n",
            "./UCF101_subset/train/BaseballPitch/v_BaseballPitch_g25_c07.avi\n",
            "./UCF101_subset/train/BaseballPitch/v_BaseballPitch_g12_c03.avi\n",
            "./UCF101_subset/train/BaseballPitch/v_BaseballPitch_g07_c06.avi\n",
            "./UCF101_subset/train/BaseballPitch/v_BaseballPitch_g20_c02.avi\n",
            "./UCF101_subset/train/BaseballPitch/v_BaseballPitch_g04_c05.avi\n",
            "./UCF101_subset/train/BaseballPitch/v_BaseballPitch_g10_c03.avi\n",
            "./UCF101_subset/train/BaseballPitch/v_BaseballPitch_g24_c04.avi\n",
            "./UCF101_subset/train/BaseballPitch/UCF101\n",
            "./UCF101_subset/train/BaseballPitch/v_BaseballPitch_g14_c04.avi\n",
            "./UCF101_subset/train/BaseballPitch/v_BaseballPitch_g23_c01.avi\n",
            "./UCF101_subset/train/BaseballPitch/v_BaseballPitch_g17_c07.avi\n",
            "./UCF101_subset/train/BaseballPitch/v_BaseballPitch_g05_c04.avi\n",
            "./UCF101_subset/train/BaseballPitch/v_BaseballPitch_g22_c02.avi\n",
            "./UCF101_subset/train/BaseballPitch/v_BaseballPitch_g19_c05.avi\n",
            "./UCF101_subset/train/BaseballPitch/v_BaseballPitch_g23_c07.avi\n",
            "./UCF101_subset/train/BaseballPitch/v_BaseballPitch_g09_c06.avi\n",
            "./UCF101_subset/train/BaseballPitch/v_BaseballPitch_g03_c02.avi\n",
            "./UCF101_subset/train/BaseballPitch/v_BaseballPitch_g10_c05.avi\n",
            "./UCF101_subset/train/BaseballPitch/v_BaseballPitch_g15_c04.avi\n",
            "./UCF101_subset/train/BaseballPitch/v_BaseballPitch_g23_c05.avi\n",
            "./UCF101_subset/train/BaseballPitch/v_BaseballPitch_g08_c01.avi\n",
            "./UCF101_subset/train/BaseballPitch/v_BaseballPitch_g22_c04.avi\n",
            "./UCF101_subset/train/BaseballPitch/v_BaseballPitch_g12_c01.avi\n",
            "./UCF101_subset/train/BaseballPitch/v_BaseballPitch_g20_c04.avi\n",
            "./UCF101_subset/train/BaseballPitch/v_BaseballPitch_g11_c04.avi\n",
            "./UCF101_subset/train/BaseballPitch/v_BaseballPitch_g21_c02.avi\n",
            "./UCF101_subset/train/Archery\n",
            "./UCF101_subset/train/Archery/v_Archery_g20_c01.avi\n",
            "./UCF101_subset/train/Archery/v_Archery_g11_c02.avi\n",
            "./UCF101_subset/train/Archery/v_Archery_g19_c01.avi\n",
            "./UCF101_subset/train/Archery/v_Archery_g16_c05.avi\n",
            "./UCF101_subset/train/Archery/v_Archery_g15_c06.avi\n",
            "./UCF101_subset/train/Archery/v_Archery_g09_c04.avi\n",
            "./UCF101_subset/train/Archery/v_Archery_g22_c02.avi\n",
            "./UCF101_subset/train/Archery/v_Archery_g21_c04.avi\n",
            "./UCF101_subset/train/Archery/v_Archery_g18_c04.avi\n",
            "./UCF101_subset/train/Archery/v_Archery_g07_c01.avi\n",
            "./UCF101_subset/train/Archery/v_Archery_g23_c01.avi\n",
            "./UCF101_subset/train/Archery/v_Archery_g14_c04.avi\n",
            "./UCF101_subset/train/Archery/v_Archery_g24_c04.avi\n",
            "./UCF101_subset/train/Archery/v_Archery_g01_c02.avi\n",
            "./UCF101_subset/train/Archery/v_Archery_g03_c04.avi\n",
            "./UCF101_subset/train/Archery/v_Archery_g13_c05.avi\n",
            "./UCF101_subset/train/Archery/v_Archery_g24_c06.avi\n",
            "./UCF101_subset/train/Archery/v_Archery_g01_c06.avi\n",
            "./UCF101_subset/train/Archery/v_Archery_g16_c03.avi\n",
            "./UCF101_subset/train/Archery/v_Archery_g06_c01.avi\n",
            "./UCF101_subset/train/Archery/UCF101\n",
            "./UCF101_subset/train/Archery/v_Archery_g18_c02.avi\n",
            "./UCF101_subset/train/Archery/v_Archery_g04_c05.avi\n",
            "./UCF101_subset/train/Archery/v_Archery_g02_c03.avi\n",
            "./UCF101_subset/train/Archery/v_Archery_g25_c02.avi\n",
            "./UCF101_subset/train/Archery/v_Archery_g20_c03.avi\n",
            "./UCF101_subset/train/Archery/v_Archery_g19_c03.avi\n",
            "./UCF101_subset/train/Archery/v_Archery_g13_c01.avi\n",
            "./UCF101_subset/train/Archery/v_Archery_g23_c05.avi\n",
            "./UCF101_subset/train/Archery/v_Archery_g05_c04.avi\n",
            "./UCF101_subset/train/Archery/v_Archery_g11_c06.avi\n",
            "./UCF101_subset/train/ApplyLipstick\n",
            "./UCF101_subset/train/ApplyLipstick/v_ApplyLipstick_g03_c03.avi\n",
            "./UCF101_subset/train/ApplyLipstick/v_ApplyLipstick_g14_c03.avi\n",
            "./UCF101_subset/train/ApplyLipstick/v_ApplyLipstick_g12_c04.avi\n",
            "./UCF101_subset/train/ApplyLipstick/v_ApplyLipstick_g11_c02.avi\n",
            "./UCF101_subset/train/ApplyLipstick/v_ApplyLipstick_g06_c01.avi\n",
            "./UCF101_subset/train/ApplyLipstick/v_ApplyLipstick_g15_c03.avi\n",
            "./UCF101_subset/train/ApplyLipstick/v_ApplyLipstick_g21_c01.avi\n",
            "./UCF101_subset/train/ApplyLipstick/v_ApplyLipstick_g25_c04.avi\n",
            "./UCF101_subset/train/ApplyLipstick/v_ApplyLipstick_g17_c03.avi\n",
            "./UCF101_subset/train/ApplyLipstick/v_ApplyLipstick_g24_c05.avi\n",
            "./UCF101_subset/train/ApplyLipstick/v_ApplyLipstick_g08_c02.avi\n",
            "./UCF101_subset/train/ApplyLipstick/v_ApplyLipstick_g05_c04.avi\n",
            "./UCF101_subset/train/ApplyLipstick/v_ApplyLipstick_g06_c05.avi\n",
            "./UCF101_subset/train/ApplyLipstick/v_ApplyLipstick_g21_c03.avi\n",
            "./UCF101_subset/train/ApplyLipstick/UCF101\n",
            "./UCF101_subset/train/ApplyLipstick/v_ApplyLipstick_g18_c02.avi\n",
            "./UCF101_subset/train/ApplyLipstick/v_ApplyLipstick_g23_c01.avi\n",
            "./UCF101_subset/train/ApplyLipstick/v_ApplyLipstick_g04_c05.avi\n",
            "./UCF101_subset/train/ApplyLipstick/v_ApplyLipstick_g02_c03.avi\n",
            "./UCF101_subset/train/ApplyLipstick/v_ApplyLipstick_g24_c03.avi\n",
            "./UCF101_subset/train/ApplyLipstick/v_ApplyLipstick_g17_c01.avi\n",
            "./UCF101_subset/train/ApplyLipstick/v_ApplyLipstick_g22_c02.avi\n",
            "./UCF101_subset/train/ApplyLipstick/v_ApplyLipstick_g18_c04.avi\n",
            "./UCF101_subset/train/ApplyLipstick/v_ApplyLipstick_g01_c04.avi\n",
            "./UCF101_subset/train/ApplyLipstick/v_ApplyLipstick_g20_c04.avi\n",
            "./UCF101_subset/train/ApplyLipstick/v_ApplyLipstick_g23_c03.avi\n",
            "./UCF101_subset/train/ApplyLipstick/v_ApplyLipstick_g21_c05.avi\n",
            "./UCF101_subset/train/ApplyLipstick/v_ApplyLipstick_g17_c05.avi\n",
            "./UCF101_subset/train/ApplyLipstick/v_ApplyLipstick_g19_c04.avi\n",
            "./UCF101_subset/train/ApplyLipstick/v_ApplyLipstick_g08_c04.avi\n",
            "./UCF101_subset/train/ApplyLipstick/v_ApplyLipstick_g09_c02.avi\n",
            "./UCF101_subset/train/BasketballDunk\n",
            "./UCF101_subset/train/BasketballDunk/v_BasketballDunk_g09_c02.avi\n",
            "./UCF101_subset/train/BasketballDunk/v_BasketballDunk_g21_c03.avi\n",
            "./UCF101_subset/train/BasketballDunk/v_BasketballDunk_g20_c05.avi\n",
            "./UCF101_subset/train/BasketballDunk/v_BasketballDunk_g23_c05.avi\n",
            "./UCF101_subset/train/BasketballDunk/v_BasketballDunk_g08_c05.avi\n",
            "./UCF101_subset/train/BasketballDunk/v_BasketballDunk_g18_c01.avi\n",
            "./UCF101_subset/train/BasketballDunk/v_BasketballDunk_g03_c03.avi\n",
            "./UCF101_subset/train/BasketballDunk/v_BasketballDunk_g04_c01.avi\n",
            "./UCF101_subset/train/BasketballDunk/v_BasketballDunk_g02_c03.avi\n",
            "./UCF101_subset/train/BasketballDunk/v_BasketballDunk_g01_c04.avi\n",
            "./UCF101_subset/train/BasketballDunk/v_BasketballDunk_g12_c05.avi\n",
            "./UCF101_subset/train/BasketballDunk/v_BasketballDunk_g13_c02.avi\n",
            "./UCF101_subset/train/BasketballDunk/UCF101\n",
            "./UCF101_subset/train/BasketballDunk/v_BasketballDunk_g14_c04.avi\n",
            "./UCF101_subset/train/BasketballDunk/v_BasketballDunk_g16_c04.avi\n",
            "./UCF101_subset/train/BasketballDunk/v_BasketballDunk_g17_c06.avi\n",
            "./UCF101_subset/train/BasketballDunk/v_BasketballDunk_g20_c01.avi\n",
            "./UCF101_subset/train/BasketballDunk/v_BasketballDunk_g11_c02.avi\n",
            "./UCF101_subset/train/BasketballDunk/v_BasketballDunk_g22_c01.avi\n",
            "./UCF101_subset/train/BasketballDunk/v_BasketballDunk_g05_c05.avi\n",
            "./UCF101_subset/train/BasketballDunk/v_BasketballDunk_g12_c03.avi\n",
            "./UCF101_subset/train/BasketballDunk/v_BasketballDunk_g15_c05.avi\n",
            "./UCF101_subset/train/BasketballDunk/v_BasketballDunk_g03_c05.avi\n",
            "./UCF101_subset/train/BasketballDunk/v_BasketballDunk_g06_c01.avi\n",
            "./UCF101_subset/train/BasketballDunk/v_BasketballDunk_g10_c05.avi\n",
            "./UCF101_subset/train/BasketballDunk/v_BasketballDunk_g17_c02.avi\n",
            "./UCF101_subset/train/BasketballDunk/v_BasketballDunk_g09_c04.avi\n",
            "./UCF101_subset/train/BasketballDunk/v_BasketballDunk_g25_c01.avi\n",
            "./UCF101_subset/train/BasketballDunk/v_BasketballDunk_g08_c01.avi\n",
            "./UCF101_subset/train/BasketballDunk/v_BasketballDunk_g25_c03.avi\n",
            "./UCF101_subset/train/BasketballDunk/v_BasketballDunk_g07_c05.avi\n",
            "./UCF101_subset/train/Basketball\n",
            "./UCF101_subset/train/Basketball/v_Basketball_g17_c02.avi\n",
            "./UCF101_subset/train/Basketball/v_Basketball_g15_c07.avi\n",
            "./UCF101_subset/train/Basketball/v_Basketball_g19_c01.avi\n",
            "./UCF101_subset/train/Basketball/v_Basketball_g03_c02.avi\n",
            "./UCF101_subset/train/Basketball/v_Basketball_g17_c04.avi\n",
            "./UCF101_subset/train/Basketball/v_Basketball_g02_c06.avi\n",
            "./UCF101_subset/train/Basketball/v_Basketball_g19_c05.avi\n",
            "./UCF101_subset/train/Basketball/v_Basketball_g25_c04.avi\n",
            "./UCF101_subset/train/Basketball/v_Basketball_g20_c04.avi\n",
            "./UCF101_subset/train/Basketball/v_Basketball_g09_c04.avi\n",
            "./UCF101_subset/train/Basketball/v_Basketball_g09_c02.avi\n",
            "./UCF101_subset/train/Basketball/v_Basketball_g02_c02.avi\n",
            "./UCF101_subset/train/Basketball/v_Basketball_g15_c05.avi\n",
            "./UCF101_subset/train/Basketball/v_Basketball_g12_c01.avi\n",
            "./UCF101_subset/train/Basketball/v_Basketball_g14_c02.avi\n",
            "./UCF101_subset/train/Basketball/v_Basketball_g25_c02.avi\n",
            "./UCF101_subset/train/Basketball/v_Basketball_g03_c06.avi\n",
            "./UCF101_subset/train/Basketball/UCF101\n",
            "./UCF101_subset/train/Basketball/v_Basketball_g11_c04.avi\n",
            "./UCF101_subset/train/Basketball/v_Basketball_g01_c07.avi\n",
            "./UCF101_subset/train/Basketball/v_Basketball_g05_c04.avi\n",
            "./UCF101_subset/train/Basketball/v_Basketball_g24_c02.avi\n",
            "./UCF101_subset/train/Basketball/v_Basketball_g22_c03.avi\n",
            "./UCF101_subset/train/Basketball/v_Basketball_g04_c02.avi\n",
            "./UCF101_subset/train/Basketball/v_Basketball_g08_c02.avi\n",
            "./UCF101_subset/train/Basketball/v_Basketball_g19_c03.avi\n",
            "./UCF101_subset/train/Basketball/v_Basketball_g06_c02.avi\n",
            "./UCF101_subset/train/Basketball/v_Basketball_g14_c04.avi\n",
            "./UCF101_subset/train/Basketball/v_Basketball_g05_c02.avi\n",
            "./UCF101_subset/train/Basketball/v_Basketball_g08_c04.avi\n",
            "./UCF101_subset/train/Basketball/v_Basketball_g21_c05.avi\n",
            "./UCF101_subset/train/BalanceBeam\n",
            "./UCF101_subset/train/BalanceBeam/v_BalanceBeam_g24_c01.avi\n",
            "./UCF101_subset/train/BalanceBeam/v_BalanceBeam_g03_c03.avi\n",
            "./UCF101_subset/train/BalanceBeam/v_BalanceBeam_g09_c04.avi\n",
            "./UCF101_subset/train/BalanceBeam/v_BalanceBeam_g21_c05.avi\n",
            "./UCF101_subset/train/BalanceBeam/v_BalanceBeam_g18_c03.avi\n",
            "./UCF101_subset/train/BalanceBeam/v_BalanceBeam_g25_c01.avi\n",
            "./UCF101_subset/train/BalanceBeam/v_BalanceBeam_g17_c03.avi\n",
            "./UCF101_subset/train/BalanceBeam/v_BalanceBeam_g20_c01.avi\n",
            "./UCF101_subset/train/BalanceBeam/v_BalanceBeam_g14_c03.avi\n",
            "./UCF101_subset/train/BalanceBeam/v_BalanceBeam_g09_c02.avi\n",
            "./UCF101_subset/train/BalanceBeam/v_BalanceBeam_g13_c04.avi\n",
            "./UCF101_subset/train/BalanceBeam/UCF101\n",
            "./UCF101_subset/train/BalanceBeam/v_BalanceBeam_g03_c01.avi\n",
            "./UCF101_subset/train/BalanceBeam/v_BalanceBeam_g04_c03.avi\n",
            "./UCF101_subset/train/BalanceBeam/v_BalanceBeam_g19_c03.avi\n",
            "./UCF101_subset/train/BalanceBeam/v_BalanceBeam_g02_c01.avi\n",
            "./UCF101_subset/train/BalanceBeam/v_BalanceBeam_g17_c01.avi\n",
            "./UCF101_subset/train/BalanceBeam/v_BalanceBeam_g25_c03.avi\n",
            "./UCF101_subset/train/BalanceBeam/v_BalanceBeam_g08_c04.avi\n",
            "./UCF101_subset/train/BalanceBeam/v_BalanceBeam_g07_c04.avi\n",
            "./UCF101_subset/train/BalanceBeam/v_BalanceBeam_g17_c05.avi\n",
            "./UCF101_subset/train/BalanceBeam/v_BalanceBeam_g05_c01.avi\n",
            "./UCF101_subset/train/BalanceBeam/v_BalanceBeam_g01_c03.avi\n",
            "./UCF101_subset/train/BalanceBeam/v_BalanceBeam_g04_c01.avi\n",
            "./UCF101_subset/train/BalanceBeam/v_BalanceBeam_g06_c07.avi\n",
            "./UCF101_subset/train/BalanceBeam/v_BalanceBeam_g15_c03.avi\n",
            "./UCF101_subset/train/BalanceBeam/v_BalanceBeam_g22_c04.avi\n",
            "./UCF101_subset/train/BalanceBeam/v_BalanceBeam_g16_c03.avi\n",
            "./UCF101_subset/train/BalanceBeam/v_BalanceBeam_g06_c03.avi\n",
            "./UCF101_subset/train/BalanceBeam/v_BalanceBeam_g18_c01.avi\n",
            "./UCF101_subset/train/BalanceBeam/v_BalanceBeam_g23_c04.avi\n",
            "./UCF101_subset/train/ApplyEyeMakeup\n",
            "./UCF101_subset/train/ApplyEyeMakeup/v_ApplyEyeMakeup_g12_c05.avi\n",
            "./UCF101_subset/train/ApplyEyeMakeup/v_ApplyEyeMakeup_g15_c02.avi\n",
            "./UCF101_subset/train/ApplyEyeMakeup/v_ApplyEyeMakeup_g24_c06.avi\n",
            "./UCF101_subset/train/ApplyEyeMakeup/v_ApplyEyeMakeup_g16_c01.avi\n",
            "./UCF101_subset/train/ApplyEyeMakeup/v_ApplyEyeMakeup_g08_c05.avi\n",
            "./UCF101_subset/train/ApplyEyeMakeup/v_ApplyEyeMakeup_g03_c03.avi\n",
            "./UCF101_subset/train/ApplyEyeMakeup/v_ApplyEyeMakeup_g07_c06.avi\n",
            "./UCF101_subset/train/ApplyEyeMakeup/v_ApplyEyeMakeup_g19_c02.avi\n",
            "./UCF101_subset/train/ApplyEyeMakeup/v_ApplyEyeMakeup_g25_c07.avi\n",
            "./UCF101_subset/train/ApplyEyeMakeup/v_ApplyEyeMakeup_g04_c03.avi\n",
            "./UCF101_subset/train/ApplyEyeMakeup/v_ApplyEyeMakeup_g10_c03.avi\n",
            "./UCF101_subset/train/ApplyEyeMakeup/v_ApplyEyeMakeup_g23_c06.avi\n",
            "./UCF101_subset/train/ApplyEyeMakeup/v_ApplyEyeMakeup_g23_c04.avi\n",
            "./UCF101_subset/train/ApplyEyeMakeup/v_ApplyEyeMakeup_g18_c03.avi\n",
            "./UCF101_subset/train/ApplyEyeMakeup/v_ApplyEyeMakeup_g20_c04.avi\n",
            "./UCF101_subset/train/ApplyEyeMakeup/v_ApplyEyeMakeup_g04_c01.avi\n",
            "./UCF101_subset/train/ApplyEyeMakeup/v_ApplyEyeMakeup_g18_c01.avi\n",
            "./UCF101_subset/train/ApplyEyeMakeup/UCF101\n",
            "./UCF101_subset/train/ApplyEyeMakeup/v_ApplyEyeMakeup_g04_c05.avi\n",
            "./UCF101_subset/train/ApplyEyeMakeup/v_ApplyEyeMakeup_g13_c01.avi\n",
            "./UCF101_subset/train/ApplyEyeMakeup/v_ApplyEyeMakeup_g05_c02.avi\n",
            "./UCF101_subset/train/ApplyEyeMakeup/v_ApplyEyeMakeup_g23_c02.avi\n",
            "./UCF101_subset/train/ApplyEyeMakeup/v_ApplyEyeMakeup_g17_c02.avi\n",
            "./UCF101_subset/train/ApplyEyeMakeup/v_ApplyEyeMakeup_g12_c01.avi\n",
            "./UCF101_subset/train/ApplyEyeMakeup/v_ApplyEyeMakeup_g06_c07.avi\n",
            "./UCF101_subset/train/ApplyEyeMakeup/v_ApplyEyeMakeup_g24_c02.avi\n",
            "./UCF101_subset/train/ApplyEyeMakeup/v_ApplyEyeMakeup_g25_c01.avi\n",
            "./UCF101_subset/train/ApplyEyeMakeup/v_ApplyEyeMakeup_g11_c04.avi\n",
            "./UCF101_subset/train/ApplyEyeMakeup/v_ApplyEyeMakeup_g13_c05.avi\n",
            "./UCF101_subset/train/ApplyEyeMakeup/v_ApplyEyeMakeup_g24_c04.avi\n",
            "./UCF101_subset/train/ApplyEyeMakeup/v_ApplyEyeMakeup_g02_c01.avi\n"
          ]
        }
      ],
      "source": [
        "!find ./UCF101_subset"
      ]
    },
    {
      "cell_type": "markdown",
      "metadata": {
        "id": "U4uslY4dScyu"
      },
      "source": [
        "## Create frames from each video file"
      ]
    },
    {
      "cell_type": "markdown",
      "metadata": {
        "id": "D1vvyT0F7JAZ"
      },
      "source": [
        "The `frames_from_video_file` function splits the videos into frames, reads a randomly chosen span of `n_frames` out of a video file, and returns them as a NumPy `array`.\n",
        "To reduce memory and computation overhead, choose a **small** number of frames. In addition, pick the **same** number of frames from each video, which makes it easier to work on batches of data.\n"
      ]
    },
    {
      "cell_type": "code",
      "execution_count": 35,
      "metadata": {
        "id": "vNBCiV3bMzpD"
      },
      "outputs": [],
      "source": [
        "def format_frames(frame, output_size):\n",
        "  \"\"\"\n",
        "    Pad and resize an image from a video.\n",
        "\n",
        "    Args:\n",
        "      frame: Image that needs to resized and padded.\n",
        "      output_size: Pixel size of the output frame image.\n",
        "\n",
        "    Return:\n",
        "      Formatted frame with padding of specified output size.\n",
        "  \"\"\"\n",
        "  frame = tf.image.convert_image_dtype(frame, tf.float32)\n",
        "  frame = tf.image.resize_with_pad(frame, *output_size)\n",
        "  return frame"
      ]
    },
    {
      "cell_type": "code",
      "execution_count": 36,
      "metadata": {
        "id": "9ujLDC9G7JyE"
      },
      "outputs": [],
      "source": [
        "def frames_from_video_file(video_path, n_frames, output_size = (224,224), frame_step = 15):\n",
        "  \"\"\"\n",
        "    Creates frames from each video file present for each category.\n",
        "\n",
        "    Args:\n",
        "      video_path: File path to the video.\n",
        "      n_frames: Number of frames to be created per video file.\n",
        "      output_size: Pixel size of the output frame image.\n",
        "\n",
        "    Return:\n",
        "      An NumPy array of frames in the shape of (n_frames, height, width, channels).\n",
        "  \"\"\"\n",
        "  # Read each video frame by frame\n",
        "  result = []\n",
        "  src = cv2.VideoCapture(str(video_path))\n",
        "\n",
        "  video_length = src.get(cv2.CAP_PROP_FRAME_COUNT)\n",
        "\n",
        "  need_length = 1 + (n_frames - 1) * frame_step\n",
        "\n",
        "  if need_length > video_length:\n",
        "    start = 0\n",
        "  else:\n",
        "    max_start = video_length - need_length\n",
        "    start = random.randint(0, max_start + 1)\n",
        "\n",
        "  src.set(cv2.CAP_PROP_POS_FRAMES, start)\n",
        "  # ret is a boolean indicating whether read was successful, frame is the image itself\n",
        "  ret, frame = src.read()\n",
        "  result.append(format_frames(frame, output_size))\n",
        "\n",
        "  for _ in range(n_frames - 1):\n",
        "    for _ in range(frame_step):\n",
        "      ret, frame = src.read()\n",
        "    if ret:\n",
        "      frame = format_frames(frame, output_size)\n",
        "      result.append(frame)\n",
        "    else:\n",
        "      result.append(np.zeros_like(result[0]))\n",
        "  src.release()\n",
        "  result = np.array(result)[..., [2, 1, 0]]\n",
        "\n",
        "  return result"
      ]
    },
    {
      "cell_type": "markdown",
      "metadata": {
        "id": "1ENtlwhxwyTe"
      },
      "source": [
        "## Visualize video data\n",
        "\n",
        "The `frames_from_video_file` function that returns a set of frames as a NumPy array. Try using this function on a new video from [Wikimedia](https://commons.wikimedia.org/wiki/Category:Videos_of_sports) by Patrick Gillett:"
      ]
    },
    {
      "cell_type": "code",
      "execution_count": 37,
      "metadata": {
        "id": "Z2hgSghlykzA",
        "outputId": "1c3836b1-5a9a-4df7-9ef6-35c9a8e8c2f2",
        "colab": {
          "base_uri": "https://localhost:8080/"
        }
      },
      "outputs": [
        {
          "output_type": "stream",
          "name": "stdout",
          "text": [
            "  % Total    % Received % Xferd  Average Speed   Time    Time     Time  Current\n",
            "                                 Dload  Upload   Total   Spent    Left  Speed\n",
            "100 55.0M  100 55.0M    0     0  25.5M      0  0:00:02  0:00:02 --:--:-- 25.5M\n"
          ]
        }
      ],
      "source": [
        "!curl -O https://upload.wikimedia.org/wikipedia/commons/8/86/End_of_a_jam.ogv"
      ]
    },
    {
      "cell_type": "code",
      "execution_count": 38,
      "metadata": {
        "id": "xdHvHw3hym-U"
      },
      "outputs": [],
      "source": [
        "video_path = \"End_of_a_jam.ogv\""
      ]
    },
    {
      "cell_type": "code",
      "execution_count": 46,
      "metadata": {
        "id": "u845YODXyqo5",
        "outputId": "c60fc529-0db8-4011-f414-e7370d2f8d15",
        "colab": {
          "base_uri": "https://localhost:8080/"
        }
      },
      "outputs": [
        {
          "output_type": "execute_result",
          "data": {
            "text/plain": [
              "(10, 224, 224, 3)"
            ]
          },
          "metadata": {},
          "execution_count": 46
        }
      ],
      "source": [
        "sample_video = frames_from_video_file(video_path, n_frames = 10)\n",
        "sample_video.shape"
      ]
    },
    {
      "cell_type": "code",
      "execution_count": 40,
      "metadata": {
        "id": "zFHGHiFgGjv2"
      },
      "outputs": [],
      "source": [
        "def to_gif(images):\n",
        "  converted_images = np.clip(images * 255, 0, 255).astype(np.uint8)\n",
        "  imageio.mimsave('./animation.gif', converted_images, fps=10)\n",
        "  return embed.embed_file('./animation.gif')"
      ]
    },
    {
      "cell_type": "code",
      "execution_count": 42,
      "metadata": {
        "id": "7hiwUJenEN3p",
        "outputId": "ff9f6aa9-88b1-4a46-93e4-1545dd7ba0da",
        "colab": {
          "base_uri": "https://localhost:8080/",
          "height": 246
        }
      },
      "outputs": [
        {
          "output_type": "execute_result",
          "data": {
            "text/plain": [
              "<IPython.core.display.HTML object>"
            ],
            "text/html": [
              "<img src=\"data:image/gif;base64,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\"/>"
            ]
          },
          "metadata": {},
          "execution_count": 42
        }
      ],
      "source": [
        "to_gif(sample_video)"
      ]
    },
    {
      "cell_type": "markdown",
      "metadata": {
        "id": "3dktTnDVG7xf"
      },
      "source": [
        "In addition to examining this video, you can also display the UCF-101 data. To do this, run the following code:"
      ]
    },
    {
      "cell_type": "code",
      "execution_count": null,
      "metadata": {
        "id": "MghJzJsWme0t"
      },
      "outputs": [],
      "source": [
        "# docs-infra: no-execute\n",
        "ucf_sample_video = frames_from_video_file(next(subset_paths['train'].glob('*/*.avi')), 50)\n",
        "to_gif(ucf_sample_video)"
      ]
    },
    {
      "cell_type": "markdown",
      "metadata": {
        "id": "NlvuC5_E7XrF"
      },
      "source": [
        "Next, define the `FrameGenerator` class in order to create an iterable object that can feed data into the TensorFlow data pipeline. The generator (`__call__`) function yields the frame array produced by `frames_from_video_file` and a one-hot encoded vector of the label associated with the set of frames."
      ]
    },
    {
      "cell_type": "code",
      "execution_count": null,
      "metadata": {
        "id": "MVmfLTlw7Ues"
      },
      "outputs": [],
      "source": [
        "class FrameGenerator:\n",
        "  def __init__(self, path, n_frames, training = False):\n",
        "    \"\"\" Returns a set of frames with their associated label.\n",
        "\n",
        "      Args:\n",
        "        path: Video file paths.\n",
        "        n_frames: Number of frames.\n",
        "        training: Boolean to determine if training dataset is being created.\n",
        "    \"\"\"\n",
        "    self.path = path\n",
        "    self.n_frames = n_frames\n",
        "    self.training = training\n",
        "    self.class_names = sorted(set(p.name for p in self.path.iterdir() if p.is_dir()))\n",
        "    self.class_ids_for_name = dict((name, idx) for idx, name in enumerate(self.class_names))\n",
        "\n",
        "  def get_files_and_class_names(self):\n",
        "    video_paths = list(self.path.glob('*/*.avi'))\n",
        "    classes = [p.parent.name for p in video_paths]\n",
        "    return video_paths, classes\n",
        "\n",
        "  def __call__(self):\n",
        "    video_paths, classes = self.get_files_and_class_names()\n",
        "\n",
        "    pairs = list(zip(video_paths, classes))\n",
        "\n",
        "    if self.training:\n",
        "      random.shuffle(pairs)\n",
        "\n",
        "    for path, name in pairs:\n",
        "      video_frames = frames_from_video_file(path, self.n_frames)\n",
        "      label = self.class_ids_for_name[name] # Encode labels\n",
        "      yield video_frames, label"
      ]
    },
    {
      "cell_type": "markdown",
      "metadata": {
        "id": "xsvhPIkpzx-r"
      },
      "source": [
        "Test out the `FrameGenerator` object before wrapping it as a TensorFlow Dataset object. Moreover, for the training dataset, ensure you enable training mode so that the data will be shuffled."
      ]
    },
    {
      "cell_type": "code",
      "execution_count": null,
      "metadata": {
        "id": "P5jwagZxzxOf"
      },
      "outputs": [],
      "source": [
        "fg = FrameGenerator(subset_paths['train'], 10, training=True)\n",
        "\n",
        "frames, label = next(fg())\n",
        "\n",
        "print(f\"Shape: {frames.shape}\")\n",
        "print(f\"Label: {label}\")"
      ]
    },
    {
      "cell_type": "markdown",
      "metadata": {
        "id": "E7MRRFSks7l1"
      },
      "source": [
        "Finally, create a TensorFlow data input pipeline. This pipeline that you create from the generator object allows you to feed in data to your deep learning model. In this video pipeline, each element is a single set of frames and its associated label."
      ]
    },
    {
      "cell_type": "code",
      "execution_count": null,
      "metadata": {
        "id": "HM4NboJr7ck4"
      },
      "outputs": [],
      "source": [
        "# Create the training set\n",
        "output_signature = (tf.TensorSpec(shape = (None, None, None, 3), dtype = tf.float32),\n",
        "                    tf.TensorSpec(shape = (), dtype = tf.int16))\n",
        "train_ds = tf.data.Dataset.from_generator(FrameGenerator(subset_paths['train'], 10, training=True),\n",
        "                                          output_signature = output_signature)"
      ]
    },
    {
      "cell_type": "markdown",
      "metadata": {
        "id": "9oF_8m8IZvcY"
      },
      "source": [
        "Check to see that the labels are shuffled."
      ]
    },
    {
      "cell_type": "code",
      "execution_count": null,
      "metadata": {
        "id": "3XYVmsgiZsJD"
      },
      "outputs": [],
      "source": [
        "for frames, labels in train_ds.take(10):\n",
        "  print(labels)"
      ]
    },
    {
      "cell_type": "code",
      "execution_count": null,
      "metadata": {
        "id": "Pi8-WkOkEXw5"
      },
      "outputs": [],
      "source": [
        "# Create the validation set\n",
        "val_ds = tf.data.Dataset.from_generator(FrameGenerator(subset_paths['val'], 10),\n",
        "                                        output_signature = output_signature)"
      ]
    },
    {
      "cell_type": "code",
      "execution_count": null,
      "metadata": {
        "id": "V6qXc-6i7eyK"
      },
      "outputs": [],
      "source": [
        "# Print the shapes of the data\n",
        "train_frames, train_labels = next(iter(train_ds))\n",
        "print(f'Shape of training set of frames: {train_frames.shape}')\n",
        "print(f'Shape of training labels: {train_labels.shape}')\n",
        "\n",
        "val_frames, val_labels = next(iter(val_ds))\n",
        "print(f'Shape of validation set of frames: {val_frames.shape}')\n",
        "print(f'Shape of validation labels: {val_labels.shape}')"
      ]
    },
    {
      "cell_type": "markdown",
      "metadata": {
        "id": "bIrFpUIxvTLe"
      },
      "source": [
        "## Configure the dataset for performance\n",
        "\n",
        "Use buffered prefetching such that you can yield data from the disk without having I/O become blocking. Two important functions to use while loading data are:\n",
        "\n",
        "* `Dataset.cache`: keeps the sets of frames in memory after they're loaded off the disk during the first epoch. This function ensures that the dataset does not become a bottleneck while training your model. If your dataset is too large to fit into memory, you can also use this method to create a performant on-disk cache.\n",
        "\n",
        "* `Dataset.prefetch`: overlaps data preprocessing and model execution while training.\n",
        "Refer to [Better performance with the `tf.data`](https://www.tensorflow.org/guide/data_performance) for details."
      ]
    },
    {
      "cell_type": "code",
      "execution_count": null,
      "metadata": {
        "id": "QSxjFtxAvY3_"
      },
      "outputs": [],
      "source": [
        "AUTOTUNE = tf.data.AUTOTUNE\n",
        "\n",
        "train_ds = train_ds.cache().shuffle(1000).prefetch(buffer_size = AUTOTUNE)\n",
        "val_ds = val_ds.cache().shuffle(1000).prefetch(buffer_size = AUTOTUNE)"
      ]
    },
    {
      "cell_type": "markdown",
      "metadata": {
        "id": "VaY-hyr-Fbfr"
      },
      "source": [
        "To prepare the data to be fed into the model, use batching as shown below. Notice that when working with video data, such as AVI files, the data should be shaped as a five dimensional object. These dimensions are as follows: `[batch_size, number_of_frames, height, width, channels]`. In comparison, an image would have four dimensions: `[batch_size, height, width, channels]`. The image below is an illustration of how the shape of video data is represented.\n",
        "\n",
        "![Video data shape](https://www.tensorflow.org/images/tutorials/video/video_data_shape.png)\n"
      ]
    },
    {
      "cell_type": "code",
      "execution_count": null,
      "metadata": {
        "id": "pp2Qc6XSFmeB"
      },
      "outputs": [],
      "source": [
        "train_ds = train_ds.batch(2)\n",
        "val_ds = val_ds.batch(2)\n",
        "\n",
        "train_frames, train_labels = next(iter(train_ds))\n",
        "print(f'Shape of training set of frames: {train_frames.shape}')\n",
        "print(f'Shape of training labels: {train_labels.shape}')\n",
        "\n",
        "val_frames, val_labels = next(iter(val_ds))\n",
        "print(f'Shape of validation set of frames: {val_frames.shape}')\n",
        "print(f'Shape of validation labels: {val_labels.shape}')"
      ]
    },
    {
      "cell_type": "markdown",
      "metadata": {
        "id": "hqjXn1FgsMqZ"
      },
      "source": [
        "## Next steps\n",
        "\n",
        "Now that you have created a TensorFlow `Dataset` of video frames with their labels, you can use it with a deep learning model. The following classification model that uses a pre-trained [EfficientNet](https://arxiv.org/abs/1905.11946) trains to high accuracy in a few minutes:"
      ]
    },
    {
      "cell_type": "code",
      "execution_count": null,
      "metadata": {
        "id": "qzqgPBUuForj"
      },
      "outputs": [],
      "source": [
        "net = tf.keras.applications.EfficientNetB0(include_top = False)\n",
        "net.trainable = False\n",
        "\n",
        "model = tf.keras.Sequential([\n",
        "    tf.keras.layers.Rescaling(scale=255),\n",
        "    tf.keras.layers.TimeDistributed(net),\n",
        "    tf.keras.layers.Dense(10),\n",
        "    tf.keras.layers.GlobalAveragePooling3D()\n",
        "])\n",
        "\n",
        "model.compile(optimizer = 'adam',\n",
        "              loss=tf.keras.losses.SparseCategoricalCrossentropy(from_logits = True),\n",
        "              metrics=['accuracy'])\n",
        "\n",
        "model.fit(train_ds,\n",
        "          epochs = 10,\n",
        "          validation_data = val_ds,\n",
        "          callbacks = tf.keras.callbacks.EarlyStopping(patience = 2, monitor = 'val_loss'))"
      ]
    },
    {
      "cell_type": "markdown",
      "metadata": {
        "id": "DdJm7ojgGxtT"
      },
      "source": [
        "To learn more about working with video data in TensorFlow, check out the following tutorials:\n",
        "\n",
        "* [Build a 3D CNN model for video classification](https://www.tensorflow.org/tutorials/video/video_classification)\n",
        "* [MoViNet for streaming action recognition](https://www.tensorflow.org/hub/tutorials/movinet)\n",
        "* [Transfer learning for video classification with MoViNet](https://www.tensorflow.org/tutorials/video/transfer_learning_with_movinet)"
      ]
    }
  ],
  "metadata": {
    "colab": {
      "name": "video.ipynb",
      "provenance": [],
      "include_colab_link": true
    },
    "kernelspec": {
      "display_name": "Python 3",
      "name": "python3"
    }
  },
  "nbformat": 4,
  "nbformat_minor": 0
}